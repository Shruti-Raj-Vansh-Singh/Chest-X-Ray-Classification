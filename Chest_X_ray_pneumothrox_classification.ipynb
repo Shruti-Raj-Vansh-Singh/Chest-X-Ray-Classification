{
  "nbformat": 4,
  "nbformat_minor": 0,
  "metadata": {
    "colab": {
      "name": "Chest X-ray pneumothrox classification.ipynb",
      "provenance": [],
      "collapsed_sections": [],
      "toc_visible": true,
      "authorship_tag": "ABX9TyMewFFvi8MTJCxXAydSEwUt",
      "include_colab_link": true
    },
    "kernelspec": {
      "name": "python3",
      "display_name": "Python 3"
    },
    "language_info": {
      "name": "python"
    },
    "accelerator": "GPU"
  },
  "cells": [
    {
      "cell_type": "markdown",
      "metadata": {
        "id": "view-in-github",
        "colab_type": "text"
      },
      "source": [
        "<a href=\"https://colab.research.google.com/github/Shruti-Raj-Vansh-Singh/Chest-X-Ray-Classification/blob/main/Chest_X_ray_pneumothrox_classification.ipynb\" target=\"_parent\"><img src=\"https://colab.research.google.com/assets/colab-badge.svg\" alt=\"Open In Colab\"/></a>"
      ]
    },
    {
      "cell_type": "markdown",
      "metadata": {
        "id": "mroF5o3MW_pL"
      },
      "source": [
        "## Pneumothrox\n",
        "It is the collapse of the lungs. In this due to sime leakage in the lungs that can be because of some rent the oxygen that enters the lungs gets collected in the pleural cavity that decreases the size and capacity of the lungs which in turn affects the circulation of oxygen in the blood as most of the oxygen gets collected in the cavity. It usually intensifies when postive pressure ventilator is used. \\\n",
        "It can be treated by inserting a chest tube to release the captivated oxygen and restore blood flow."
      ]
    },
    {
      "cell_type": "markdown",
      "metadata": {
        "id": "j7MUi96lZw5T"
      },
      "source": [
        "## Dataset used\n",
        "The dataset used is the [SIIM-ACR Pneumothrox Segemntation](https://link.springer.com/article/10.1007/s10278-019-00299-9) dataset. "
      ]
    },
    {
      "cell_type": "markdown",
      "metadata": {
        "id": "9Y9JddTxl4gr"
      },
      "source": [
        "links\n",
        "https://journal.chestnet.org/article/S0012-3692(12)60236-0/fulltext   \\\n",
        "https://link.springer.com/article/10.1007/s10278-019-00299-9\n"
      ]
    },
    {
      "cell_type": "code",
      "metadata": {
        "id": "8m7dB5pyWjB5",
        "colab": {
          "base_uri": "https://localhost:8080/"
        },
        "outputId": "8fc1d6b3-7acf-4cd8-94d6-135fdb298069"
      },
      "source": [
        "!pip install fastai==2.3.0"
      ],
      "execution_count": 73,
      "outputs": [
        {
          "output_type": "stream",
          "text": [
            "Requirement already satisfied: fastai==2.3.0 in /usr/local/lib/python3.7/dist-packages (2.3.0)\n",
            "Requirement already satisfied: fastprogress>=0.2.4 in /usr/local/lib/python3.7/dist-packages (from fastai==2.3.0) (1.0.0)\n",
            "Requirement already satisfied: pillow>6.0.0 in /usr/local/lib/python3.7/dist-packages (from fastai==2.3.0) (7.1.2)\n",
            "Requirement already satisfied: scipy in /usr/local/lib/python3.7/dist-packages (from fastai==2.3.0) (1.4.1)\n",
            "Requirement already satisfied: torch<1.8,>=1.7.0 in /usr/local/lib/python3.7/dist-packages (from fastai==2.3.0) (1.7.1)\n",
            "Requirement already satisfied: pandas in /usr/local/lib/python3.7/dist-packages (from fastai==2.3.0) (1.1.5)\n",
            "Requirement already satisfied: packaging in /usr/local/lib/python3.7/dist-packages (from fastai==2.3.0) (20.9)\n",
            "Requirement already satisfied: requests in /usr/local/lib/python3.7/dist-packages (from fastai==2.3.0) (2.23.0)\n",
            "Requirement already satisfied: matplotlib in /usr/local/lib/python3.7/dist-packages (from fastai==2.3.0) (3.2.2)\n",
            "Requirement already satisfied: pip in /usr/local/lib/python3.7/dist-packages (from fastai==2.3.0) (19.3.1)\n",
            "Requirement already satisfied: torchvision<0.9,>=0.8 in /usr/local/lib/python3.7/dist-packages (from fastai==2.3.0) (0.8.2)\n",
            "Requirement already satisfied: scikit-learn in /usr/local/lib/python3.7/dist-packages (from fastai==2.3.0) (0.22.2.post1)\n",
            "Requirement already satisfied: fastcore<1.4,>=1.3.8 in /usr/local/lib/python3.7/dist-packages (from fastai==2.3.0) (1.3.20)\n",
            "Requirement already satisfied: spacy<3 in /usr/local/lib/python3.7/dist-packages (from fastai==2.3.0) (2.2.4)\n",
            "Requirement already satisfied: pyyaml in /usr/local/lib/python3.7/dist-packages (from fastai==2.3.0) (3.13)\n",
            "Requirement already satisfied: numpy in /usr/local/lib/python3.7/dist-packages (from fastprogress>=0.2.4->fastai==2.3.0) (1.19.5)\n",
            "Requirement already satisfied: typing-extensions in /usr/local/lib/python3.7/dist-packages (from torch<1.8,>=1.7.0->fastai==2.3.0) (3.7.4.3)\n",
            "Requirement already satisfied: python-dateutil>=2.7.3 in /usr/local/lib/python3.7/dist-packages (from pandas->fastai==2.3.0) (2.8.1)\n",
            "Requirement already satisfied: pytz>=2017.2 in /usr/local/lib/python3.7/dist-packages (from pandas->fastai==2.3.0) (2018.9)\n",
            "Requirement already satisfied: pyparsing>=2.0.2 in /usr/local/lib/python3.7/dist-packages (from packaging->fastai==2.3.0) (2.4.7)\n",
            "Requirement already satisfied: urllib3!=1.25.0,!=1.25.1,<1.26,>=1.21.1 in /usr/local/lib/python3.7/dist-packages (from requests->fastai==2.3.0) (1.24.3)\n",
            "Requirement already satisfied: certifi>=2017.4.17 in /usr/local/lib/python3.7/dist-packages (from requests->fastai==2.3.0) (2020.12.5)\n",
            "Requirement already satisfied: idna<3,>=2.5 in /usr/local/lib/python3.7/dist-packages (from requests->fastai==2.3.0) (2.10)\n",
            "Requirement already satisfied: chardet<4,>=3.0.2 in /usr/local/lib/python3.7/dist-packages (from requests->fastai==2.3.0) (3.0.4)\n",
            "Requirement already satisfied: kiwisolver>=1.0.1 in /usr/local/lib/python3.7/dist-packages (from matplotlib->fastai==2.3.0) (1.3.1)\n",
            "Requirement already satisfied: cycler>=0.10 in /usr/local/lib/python3.7/dist-packages (from matplotlib->fastai==2.3.0) (0.10.0)\n",
            "Requirement already satisfied: joblib>=0.11 in /usr/local/lib/python3.7/dist-packages (from scikit-learn->fastai==2.3.0) (1.0.1)\n",
            "Requirement already satisfied: catalogue<1.1.0,>=0.0.7 in /usr/local/lib/python3.7/dist-packages (from spacy<3->fastai==2.3.0) (1.0.0)\n",
            "Requirement already satisfied: thinc==7.4.0 in /usr/local/lib/python3.7/dist-packages (from spacy<3->fastai==2.3.0) (7.4.0)\n",
            "Requirement already satisfied: tqdm<5.0.0,>=4.38.0 in /usr/local/lib/python3.7/dist-packages (from spacy<3->fastai==2.3.0) (4.41.1)\n",
            "Requirement already satisfied: cymem<2.1.0,>=2.0.2 in /usr/local/lib/python3.7/dist-packages (from spacy<3->fastai==2.3.0) (2.0.5)\n",
            "Requirement already satisfied: plac<1.2.0,>=0.9.6 in /usr/local/lib/python3.7/dist-packages (from spacy<3->fastai==2.3.0) (1.1.3)\n",
            "Requirement already satisfied: blis<0.5.0,>=0.4.0 in /usr/local/lib/python3.7/dist-packages (from spacy<3->fastai==2.3.0) (0.4.1)\n",
            "Requirement already satisfied: wasabi<1.1.0,>=0.4.0 in /usr/local/lib/python3.7/dist-packages (from spacy<3->fastai==2.3.0) (0.8.2)\n",
            "Requirement already satisfied: murmurhash<1.1.0,>=0.28.0 in /usr/local/lib/python3.7/dist-packages (from spacy<3->fastai==2.3.0) (1.0.5)\n",
            "Requirement already satisfied: setuptools in /usr/local/lib/python3.7/dist-packages (from spacy<3->fastai==2.3.0) (57.0.0)\n",
            "Requirement already satisfied: preshed<3.1.0,>=3.0.2 in /usr/local/lib/python3.7/dist-packages (from spacy<3->fastai==2.3.0) (3.0.5)\n",
            "Requirement already satisfied: srsly<1.1.0,>=1.0.2 in /usr/local/lib/python3.7/dist-packages (from spacy<3->fastai==2.3.0) (1.0.5)\n",
            "Requirement already satisfied: six>=1.5 in /usr/local/lib/python3.7/dist-packages (from python-dateutil>=2.7.3->pandas->fastai==2.3.0) (1.15.0)\n",
            "Requirement already satisfied: importlib-metadata>=0.20; python_version < \"3.8\" in /usr/local/lib/python3.7/dist-packages (from catalogue<1.1.0,>=0.0.7->spacy<3->fastai==2.3.0) (4.0.1)\n",
            "Requirement already satisfied: zipp>=0.5 in /usr/local/lib/python3.7/dist-packages (from importlib-metadata>=0.20; python_version < \"3.8\"->catalogue<1.1.0,>=0.0.7->spacy<3->fastai==2.3.0) (3.4.1)\n"
          ],
          "name": "stdout"
        }
      ]
    },
    {
      "cell_type": "code",
      "metadata": {
        "id": "mkl-xjWdrhSv"
      },
      "source": [
        "!pip install -Uqq fastbook\n",
        "import fastbook\n",
        "fastbook.setup_book()"
      ],
      "execution_count": 74,
      "outputs": []
    },
    {
      "cell_type": "markdown",
      "metadata": {
        "id": "qSeNiVO-rmhS"
      },
      "source": [
        "The images used in this notebook are DICOM(Digital Imaging and Communications in Medicine). For that we will use pydicom library to handle the data. \\\n",
        "\\\n",
        "To use fastai.medical.imaging we need the following dependencies:\n",
        "pydicom, kornia, opencv, sciki-image"
      ]
    },
    {
      "cell_type": "code",
      "metadata": {
        "colab": {
          "base_uri": "https://localhost:8080/"
        },
        "id": "AJrgFWVbsmWE",
        "outputId": "6b4826af-5e86-4547-8aae-8baa02f59ea6"
      },
      "source": [
        "!pip install pydicom kornia opencv-python scikit-image"
      ],
      "execution_count": null,
      "outputs": [
        {
          "output_type": "stream",
          "text": [
            "Collecting pydicom\n",
            "\u001b[?25l  Downloading https://files.pythonhosted.org/packages/f4/15/df16546bc59bfca390cf072d473fb2c8acd4231636f64356593a63137e55/pydicom-2.1.2-py3-none-any.whl (1.9MB)\n",
            "\u001b[K     |████████████████████████████████| 1.9MB 8.2MB/s \n",
            "\u001b[?25hCollecting kornia\n",
            "\u001b[?25l  Downloading https://files.pythonhosted.org/packages/a3/e3/8177458a0666891353772f9a5280fdad880a058c3be094b167275f6b36b9/kornia-0.5.3-py2.py3-none-any.whl (281kB)\n",
            "\u001b[K     |████████████████████████████████| 286kB 45.6MB/s \n",
            "\u001b[?25hRequirement already satisfied: opencv-python in /usr/local/lib/python3.7/dist-packages (4.1.2.30)\n",
            "Requirement already satisfied: scikit-image in /usr/local/lib/python3.7/dist-packages (0.16.2)\n",
            "Requirement already satisfied: numpy in /usr/local/lib/python3.7/dist-packages (from kornia) (1.19.5)\n",
            "Requirement already satisfied: torch>=1.6.0 in /usr/local/lib/python3.7/dist-packages (from kornia) (1.7.1)\n",
            "Requirement already satisfied: PyWavelets>=0.4.0 in /usr/local/lib/python3.7/dist-packages (from scikit-image) (1.1.1)\n",
            "Requirement already satisfied: scipy>=0.19.0 in /usr/local/lib/python3.7/dist-packages (from scikit-image) (1.4.1)\n",
            "Requirement already satisfied: pillow>=4.3.0 in /usr/local/lib/python3.7/dist-packages (from scikit-image) (7.1.2)\n",
            "Requirement already satisfied: matplotlib!=3.0.0,>=2.0.0 in /usr/local/lib/python3.7/dist-packages (from scikit-image) (3.2.2)\n",
            "Requirement already satisfied: networkx>=2.0 in /usr/local/lib/python3.7/dist-packages (from scikit-image) (2.5.1)\n",
            "Requirement already satisfied: imageio>=2.3.0 in /usr/local/lib/python3.7/dist-packages (from scikit-image) (2.4.1)\n",
            "Requirement already satisfied: typing-extensions in /usr/local/lib/python3.7/dist-packages (from torch>=1.6.0->kornia) (3.7.4.3)\n",
            "Requirement already satisfied: cycler>=0.10 in /usr/local/lib/python3.7/dist-packages (from matplotlib!=3.0.0,>=2.0.0->scikit-image) (0.10.0)\n",
            "Requirement already satisfied: python-dateutil>=2.1 in /usr/local/lib/python3.7/dist-packages (from matplotlib!=3.0.0,>=2.0.0->scikit-image) (2.8.1)\n",
            "Requirement already satisfied: pyparsing!=2.0.4,!=2.1.2,!=2.1.6,>=2.0.1 in /usr/local/lib/python3.7/dist-packages (from matplotlib!=3.0.0,>=2.0.0->scikit-image) (2.4.7)\n",
            "Requirement already satisfied: kiwisolver>=1.0.1 in /usr/local/lib/python3.7/dist-packages (from matplotlib!=3.0.0,>=2.0.0->scikit-image) (1.3.1)\n",
            "Requirement already satisfied: decorator<5,>=4.3 in /usr/local/lib/python3.7/dist-packages (from networkx>=2.0->scikit-image) (4.4.2)\n",
            "Requirement already satisfied: six in /usr/local/lib/python3.7/dist-packages (from cycler>=0.10->matplotlib!=3.0.0,>=2.0.0->scikit-image) (1.15.0)\n",
            "Installing collected packages: pydicom, kornia\n",
            "Successfully installed kornia-0.5.3 pydicom-2.1.2\n"
          ],
          "name": "stdout"
        }
      ]
    },
    {
      "cell_type": "code",
      "metadata": {
        "id": "VLmOxNO8rjeb"
      },
      "source": [
        "from fastai import *\n",
        "from fastai.vision.all import *\n",
        "from fastai.data.all import *\n",
        "from fastai.medical.imaging import *\n",
        "\n",
        "\n",
        "import pydicom\n",
        "import pandas as pd"
      ],
      "execution_count": 76,
      "outputs": []
    },
    {
      "cell_type": "markdown",
      "metadata": {
        "id": "yY4WyL3u2EH7"
      },
      "source": [
        "# Data Visualization\n"
      ]
    },
    {
      "cell_type": "markdown",
      "metadata": {
        "id": "Y7ml03tks3RE"
      },
      "source": [
        "Importing our dataset"
      ]
    },
    {
      "cell_type": "code",
      "metadata": {
        "id": "lZSuZV6HsxYi"
      },
      "source": [
        "dataset = untar_data(URLs.SIIM_SMALL)"
      ],
      "execution_count": 77,
      "outputs": []
    },
    {
      "cell_type": "code",
      "metadata": {
        "colab": {
          "base_uri": "https://localhost:8080/"
        },
        "id": "fELh8snTu1fV",
        "outputId": "9efbec14-c7cc-4d9c-c4d7-f3d466f1022c"
      },
      "source": [
        "print(dataset)"
      ],
      "execution_count": 78,
      "outputs": [
        {
          "output_type": "stream",
          "text": [
            "/root/.fastai/data/siim_small\n"
          ],
          "name": "stdout"
        }
      ]
    },
    {
      "cell_type": "code",
      "metadata": {
        "colab": {
          "base_uri": "https://localhost:8080/"
        },
        "id": "EqXwNO0nvIW4",
        "outputId": "ff71dda6-d709-4c81-8673-a00ee68eac02"
      },
      "source": [
        "!apt install tree\n",
        "!tree /root/.fastai/data/siim_small --dirsfirst --filelimit 10"
      ],
      "execution_count": 79,
      "outputs": [
        {
          "output_type": "stream",
          "text": [
            "Reading package lists... Done\n",
            "Building dependency tree       \n",
            "Reading state information... Done\n",
            "tree is already the newest version (1.7.0-5).\n",
            "0 upgraded, 0 newly installed, 0 to remove and 39 not upgraded.\n",
            "/root/.fastai/data/siim_small\n",
            "├── train\n",
            "│   ├── No Pneumothorax [175 entries exceeds filelimit, not opening dir]\n",
            "│   └── Pneumothorax [75 entries exceeds filelimit, not opening dir]\n",
            "└── labels.csv\n",
            "\n",
            "3 directories, 1 file\n"
          ],
          "name": "stdout"
        }
      ]
    },
    {
      "cell_type": "markdown",
      "metadata": {
        "id": "WEJVRn4Luc0F"
      },
      "source": [
        "Load the path of the dicom images retreived using get_dicom_files()"
      ]
    },
    {
      "cell_type": "code",
      "metadata": {
        "id": "r-PB7BXBtLoV"
      },
      "source": [
        "#stores the path of each dicom file\n",
        "items = get_dicom_files(dataset/'train')"
      ],
      "execution_count": 80,
      "outputs": []
    },
    {
      "cell_type": "code",
      "metadata": {
        "colab": {
          "base_uri": "https://localhost:8080/"
        },
        "id": "r73LQfq1ut-3",
        "outputId": "e04595eb-0c6c-45ef-b84a-35bc60ffd38b"
      },
      "source": [
        "print(items[1])"
      ],
      "execution_count": 81,
      "outputs": [
        {
          "output_type": "stream",
          "text": [
            "/root/.fastai/data/siim_small/train/No Pneumothorax/000002.dcm\n"
          ],
          "name": "stdout"
        }
      ]
    },
    {
      "cell_type": "markdown",
      "metadata": {
        "id": "ICT404hiv8kd"
      },
      "source": [
        "Splitting our data into training and validation dataset."
      ]
    },
    {
      "cell_type": "code",
      "metadata": {
        "id": "1xdTB7RPv8WQ"
      },
      "source": [
        "train, val = RandomSplitter(valid_pct=0.1,seed =42)(items)"
      ],
      "execution_count": 82,
      "outputs": []
    },
    {
      "cell_type": "markdown",
      "metadata": {
        "id": "hj4AzbTVwXiM"
      },
      "source": [
        "Pydicom is a python package for parsing DICOM files, making it easier to access the header of the DICOM as well as coverting the raw pixel_data into pythonic structures for easier manipulation. fastai.medical.imaging uses pydicom.dcmread to load the DICOM file."
      ]
    },
    {
      "cell_type": "code",
      "metadata": {
        "colab": {
          "base_uri": "https://localhost:8080/"
        },
        "id": "bginxlr-vxmq",
        "outputId": "0069aa29-5b47-48a9-a879-f9256069db72"
      },
      "source": [
        "\n",
        "#to load the dicom file that contains the details of the patient\n",
        "patient = 2\n",
        "xray_sample = items[patient].dcmread()\n",
        "#view header\n",
        "print(xray_sample)"
      ],
      "execution_count": 83,
      "outputs": [
        {
          "output_type": "stream",
          "text": [
            "Dataset.file_meta -------------------------------\n",
            "(0002, 0000) File Meta Information Group Length  UL: 200\n",
            "(0002, 0001) File Meta Information Version       OB: b'\\x00\\x01'\n",
            "(0002, 0002) Media Storage SOP Class UID         UI: Secondary Capture Image Storage\n",
            "(0002, 0003) Media Storage SOP Instance UID      UI: 1.2.276.0.7230010.3.1.4.8323329.3935.1517875180.205912\n",
            "(0002, 0010) Transfer Syntax UID                 UI: JPEG Baseline (Process 1)\n",
            "(0002, 0012) Implementation Class UID            UI: 1.2.276.0.7230010.3.0.3.6.0\n",
            "(0002, 0013) Implementation Version Name         SH: 'OFFIS_DCMTK_360'\n",
            "-------------------------------------------------\n",
            "(0008, 0005) Specific Character Set              CS: 'ISO_IR 100'\n",
            "(0008, 0016) SOP Class UID                       UI: Secondary Capture Image Storage\n",
            "(0008, 0018) SOP Instance UID                    UI: 1.2.276.0.7230010.3.1.4.8323329.3935.1517875180.205912\n",
            "(0008, 0020) Study Date                          DA: '19010101'\n",
            "(0008, 0030) Study Time                          TM: '000000.00'\n",
            "(0008, 0050) Accession Number                    SH: ''\n",
            "(0008, 0060) Modality                            CS: 'CR'\n",
            "(0008, 0064) Conversion Type                     CS: 'WSD'\n",
            "(0008, 0090) Referring Physician's Name          PN: ''\n",
            "(0008, 103e) Series Description                  LO: 'view: AP'\n",
            "(0010, 0010) Patient's Name                      PN: '85e51803-3349-442e-ab70-a7578de1462e'\n",
            "(0010, 0020) Patient ID                          LO: '85e51803-3349-442e-ab70-a7578de1462e'\n",
            "(0010, 0030) Patient's Birth Date                DA: ''\n",
            "(0010, 0040) Patient's Sex                       CS: 'M'\n",
            "(0010, 1010) Patient's Age                       AS: '64'\n",
            "(0018, 0015) Body Part Examined                  CS: 'CHEST'\n",
            "(0018, 5101) View Position                       CS: 'AP'\n",
            "(0020, 000d) Study Instance UID                  UI: 1.2.276.0.7230010.3.1.2.8323329.3935.1517875180.205911\n",
            "(0020, 000e) Series Instance UID                 UI: 1.2.276.0.7230010.3.1.3.8323329.3935.1517875180.205910\n",
            "(0020, 0010) Study ID                            SH: ''\n",
            "(0020, 0011) Series Number                       IS: \"1\"\n",
            "(0020, 0013) Instance Number                     IS: \"1\"\n",
            "(0020, 0020) Patient Orientation                 CS: ''\n",
            "(0028, 0002) Samples per Pixel                   US: 1\n",
            "(0028, 0004) Photometric Interpretation          CS: 'MONOCHROME2'\n",
            "(0028, 0010) Rows                                US: 1024\n",
            "(0028, 0011) Columns                             US: 1024\n",
            "(0028, 0030) Pixel Spacing                       DS: [0.168, 0.168]\n",
            "(0028, 0100) Bits Allocated                      US: 8\n",
            "(0028, 0101) Bits Stored                         US: 8\n",
            "(0028, 0102) High Bit                            US: 7\n",
            "(0028, 0103) Pixel Representation                US: 0\n",
            "(0028, 2110) Lossy Image Compression             CS: '01'\n",
            "(0028, 2114) Lossy Image Compression Method      CS: 'ISO_10918_1'\n",
            "(7fe0, 0010) Pixel Data                          OB: Array of 91080 elements\n"
          ],
          "name": "stdout"
        }
      ]
    },
    {
      "cell_type": "markdown",
      "metadata": {
        "id": "xUSVhBhxyryq"
      },
      "source": [
        "\n",
        "\n",
        "Some key pointers on the tag information above:\n",
        "\n",
        "1. **Pixel Data** (7fe0 0010) - This is where the raw pixel data is stored. The order of pixels encoded for each image plane is left to right, top to bottom, i.e., the upper left pixel (labeled 1,1) is encoded first\n",
        "2. **Photometric Interpretation** (0028, 0004) - also known as color space. In this case it is MONOCHROME2 where pixel data is represented as a single monochrome image plane where low values=dark, high values=bright. If the colorspace was MONOCHROME then the low values=bright and high values=dark info.\n",
        "3. **Samples per Pixel** (0028, 0002) - This should be 1 as this image is monochrome. This value would be 3 if the color space was RGB for example\n",
        "4. **Bits Stored **(0028 0101) - Number of bits stored for each pixel sample. Typical 8 bit images have a pixel range between 0 and 255\n",
        "5. **Pixel Represenation**(0028 0103) - can either be unsigned(0) or signed(1)\n",
        "6. **Lossy Image Compression **(0028 2110) - 00 image has not been subjected to lossy compression. 01 image has been subjected to lossy compression.\n",
        "7. **Lossy Image Compression Method** (0028 2114) - states the type of lossy compression used (in this case ISO_10918_1 represents JPEG Lossy Compression)\n",
        "8. **Pixel Data** (7fe0, 0010) - Array of 161452 elements represents the image pixel data that pydicom uses to convert the pixel data into an image.\n",
        "\\\n",
        "[more info](http://dicom.nema.org/medical/dicom/current/output/chtml/part03/sect_C.7.6.3.html#sect_C.7.6.3.1.4)\n"
      ]
    },
    {
      "cell_type": "code",
      "metadata": {
        "colab": {
          "base_uri": "https://localhost:8080/"
        },
        "id": "rRlN5K5ExbGU",
        "outputId": "f991c912-ee05-476e-9d8c-c0e0769e75a6"
      },
      "source": [
        "#pixel data\n",
        "xray_sample.PixelData[:200]"
      ],
      "execution_count": 84,
      "outputs": [
        {
          "output_type": "execute_result",
          "data": {
            "text/plain": [
              "b'\\xfe\\xff\\x00\\xe0\\x00\\x00\\x00\\x00\\xfe\\xff\\x00\\xe0\\xb8c\\x01\\x00\\xff\\xd8\\xff\\xdb\\x00C\\x00\\x03\\x02\\x02\\x02\\x02\\x02\\x03\\x02\\x02\\x02\\x03\\x03\\x03\\x03\\x04\\x06\\x04\\x04\\x04\\x04\\x04\\x08\\x06\\x06\\x05\\x06\\t\\x08\\n\\n\\t\\x08\\t\\t\\n\\x0c\\x0f\\x0c\\n\\x0b\\x0e\\x0b\\t\\t\\r\\x11\\r\\x0e\\x0f\\x10\\x10\\x11\\x10\\n\\x0c\\x12\\x13\\x12\\x10\\x13\\x0f\\x10\\x10\\x10\\xff\\xc0\\x00\\x0b\\x08\\x04\\x00\\x04\\x00\\x01\\x01\\x11\\x00\\xff\\xc4\\x00\\x1d\\x00\\x00\\x03\\x01\\x01\\x01\\x01\\x01\\x01\\x01\\x00\\x00\\x00\\x00\\x00\\x00\\x00\\x02\\x03\\x04\\x01\\x00\\x05\\x06\\x08\\x07\\t\\xff\\xc4\\x00c\\x10\\x00\\x01\\x03\\x03\\x03\\x02\\x03\\x04\\x04\\x08\\x05\\x0b\\x11\\x07\\x02\\x07\\x01\\x00\\x02\\x11\\x03!1\\x04\\x12A\\x05Q\\x06aq\\x13\"\\x81\\x91\\x072\\xa1\\xb1\\x08\\x14\\x16B\\xb3\\xc1\\xd1\\xd2\\x15&6\\x95\\xe1#$%EReu\\x92\\xb2\\xf0\\xf1\\t'"
            ]
          },
          "metadata": {
            "tags": []
          },
          "execution_count": 84
        }
      ]
    },
    {
      "cell_type": "code",
      "metadata": {
        "colab": {
          "base_uri": "https://localhost:8080/"
        },
        "id": "fbBO3_1Lz3KK",
        "outputId": "aba47d5c-a9c5-4f62-8160-a6c40f740c38"
      },
      "source": [
        "#more convinient way to interpret pixeldata in the form of pixel array that is a numpy.ndarray with the help of dicom\n",
        "xray_sample.pixel_array, xray_sample.pixel_array.shape"
      ],
      "execution_count": 85,
      "outputs": [
        {
          "output_type": "execute_result",
          "data": {
            "text/plain": [
              "(array([[  0,   0,   0, ...,  24,  30,  11],\n",
              "        [  0,   0,   0, ...,  51,  55,  34],\n",
              "        [  0,   1,   1, ...,  49,  51,  29],\n",
              "        ...,\n",
              "        [  1,   1,   1, ..., 165, 166,  91],\n",
              "        [  1,   1,   1, ..., 165, 165, 102],\n",
              "        [  1,   1,   1, ...,  77,  90,  44]], dtype=uint8), (1024, 1024))"
            ]
          },
          "metadata": {
            "tags": []
          },
          "execution_count": 85
        }
      ]
    },
    {
      "cell_type": "code",
      "metadata": {
        "colab": {
          "base_uri": "https://localhost:8080/",
          "height": 303
        },
        "id": "oc7-9ais0ktr",
        "outputId": "adc69cca-f6d8-4b80-a2f0-c15d8fdf724d"
      },
      "source": [
        "xray_sample.show()"
      ],
      "execution_count": 86,
      "outputs": [
        {
          "output_type": "display_data",
          "data": {
            "image/png": "[encoded data removed]",
            "text/plain": [
              "<Figure size 360x360 with 1 Axes>"
            ]
          },
          "metadata": {
            "tags": [],
            "needs_background": "light"
          }
        }
      ]
    },
    {
      "cell_type": "code",
      "metadata": {
        "colab": {
          "base_uri": "https://localhost:8080/",
          "height": 834
        },
        "id": "QbqsaNtO0ur8",
        "outputId": "e31ec1ee-92dd-4fc9-eba6-9157c2575427"
      },
      "source": [
        "#converting the data into all the info in the dicom image to a pandas dataframe using pandas from_dicoms() function\n",
        "\n",
        "xray_dataframe = pd.DataFrame.from_dicoms(items)\n",
        "xray_dataframe.head(5)"
      ],
      "execution_count": 87,
      "outputs": [
        {
          "output_type": "execute_result",
          "data": {
            "text/html": [
              "<div>\n",
              "<style scoped>\n",
              "    .dataframe tbody tr th:only-of-type {\n",
              "        vertical-align: middle;\n",
              "    }\n",
              "\n",
              "    .dataframe tbody tr th {\n",
              "        vertical-align: top;\n",
              "    }\n",
              "\n",
              "    .dataframe thead th {\n",
              "        text-align: right;\n",
              "    }\n",
              "</style>\n",
              "<table border=\"1\" class=\"dataframe\">\n",
              "  <thead>\n",
              "    <tr style=\"text-align: right;\">\n",
              "      <th></th>\n",
              "      <th>SpecificCharacterSet</th>\n",
              "      <th>SOPClassUID</th>\n",
              "      <th>SOPInstanceUID</th>\n",
              "      <th>StudyDate</th>\n",
              "      <th>StudyTime</th>\n",
              "      <th>AccessionNumber</th>\n",
              "      <th>Modality</th>\n",
              "      <th>ConversionType</th>\n",
              "      <th>ReferringPhysicianName</th>\n",
              "      <th>SeriesDescription</th>\n",
              "      <th>PatientName</th>\n",
              "      <th>PatientID</th>\n",
              "      <th>PatientBirthDate</th>\n",
              "      <th>PatientSex</th>\n",
              "      <th>PatientAge</th>\n",
              "      <th>BodyPartExamined</th>\n",
              "      <th>ViewPosition</th>\n",
              "      <th>StudyInstanceUID</th>\n",
              "      <th>SeriesInstanceUID</th>\n",
              "      <th>StudyID</th>\n",
              "      <th>SeriesNumber</th>\n",
              "      <th>InstanceNumber</th>\n",
              "      <th>PatientOrientation</th>\n",
              "      <th>SamplesPerPixel</th>\n",
              "      <th>PhotometricInterpretation</th>\n",
              "      <th>Rows</th>\n",
              "      <th>Columns</th>\n",
              "      <th>PixelSpacing</th>\n",
              "      <th>BitsAllocated</th>\n",
              "      <th>BitsStored</th>\n",
              "      <th>HighBit</th>\n",
              "      <th>PixelRepresentation</th>\n",
              "      <th>LossyImageCompression</th>\n",
              "      <th>LossyImageCompressionMethod</th>\n",
              "      <th>fname</th>\n",
              "      <th>MultiPixelSpacing</th>\n",
              "      <th>PixelSpacing1</th>\n",
              "      <th>img_min</th>\n",
              "      <th>img_max</th>\n",
              "      <th>img_mean</th>\n",
              "      <th>img_std</th>\n",
              "      <th>img_pct_window</th>\n",
              "    </tr>\n",
              "  </thead>\n",
              "  <tbody>\n",
              "    <tr>\n",
              "      <th>0</th>\n",
              "      <td>ISO_IR 100</td>\n",
              "      <td>1.2.840.10008.5.1.4.1.1.7</td>\n",
              "      <td>1.2.276.0.7230010.3.1.4.8323329.2231.1517875171.730913</td>\n",
              "      <td>19010101</td>\n",
              "      <td>000000.00</td>\n",
              "      <td></td>\n",
              "      <td>CR</td>\n",
              "      <td>WSD</td>\n",
              "      <td></td>\n",
              "      <td>view: PA</td>\n",
              "      <td>(8, 4, 0, 6, 5, b, 2, 2, -, 9, 6, 7, f, -, 4, 9, 7, f, -, 8, 0, 8, 7, -, 6, 7, b, 0, f, f, 1, 7, 7, 5, a, 1)</td>\n",
              "      <td>84065b22-967f-497f-8087-67b0ff1775a1</td>\n",
              "      <td></td>\n",
              "      <td>M</td>\n",
              "      <td>73</td>\n",
              "      <td>CHEST</td>\n",
              "      <td>PA</td>\n",
              "      <td>1.2.276.0.7230010.3.1.2.8323329.2231.1517875171.730912</td>\n",
              "      <td>1.2.276.0.7230010.3.1.3.8323329.2231.1517875171.730911</td>\n",
              "      <td></td>\n",
              "      <td>1</td>\n",
              "      <td>1</td>\n",
              "      <td></td>\n",
              "      <td>1</td>\n",
              "      <td>MONOCHROME2</td>\n",
              "      <td>1024</td>\n",
              "      <td>1024</td>\n",
              "      <td>0.143</td>\n",
              "      <td>8</td>\n",
              "      <td>8</td>\n",
              "      <td>7</td>\n",
              "      <td>0</td>\n",
              "      <td>01</td>\n",
              "      <td>ISO_10918_1</td>\n",
              "      <td>/root/.fastai/data/siim_small/train/No Pneumothorax/000164.dcm</td>\n",
              "      <td>1</td>\n",
              "      <td>0.143</td>\n",
              "      <td>0</td>\n",
              "      <td>255</td>\n",
              "      <td>123.182117</td>\n",
              "      <td>73.225120</td>\n",
              "      <td>0.254707</td>\n",
              "    </tr>\n",
              "    <tr>\n",
              "      <th>1</th>\n",
              "      <td>ISO_IR 100</td>\n",
              "      <td>1.2.840.10008.5.1.4.1.1.7</td>\n",
              "      <td>1.2.276.0.7230010.3.1.4.8323329.11028.1517875229.983789</td>\n",
              "      <td>19010101</td>\n",
              "      <td>000000.00</td>\n",
              "      <td></td>\n",
              "      <td>CR</td>\n",
              "      <td>WSD</td>\n",
              "      <td></td>\n",
              "      <td>view: PA</td>\n",
              "      <td>(8, 5, 0, d, d, e, b, 3, -, 7, 3, a, c, -, 4, 5, e, 0, -, 9, 6, b, f, -, 7, d, 2, 7, 5, b, c, 8, 3, 7, 8, 2)</td>\n",
              "      <td>850ddeb3-73ac-45e0-96bf-7d275bc83782</td>\n",
              "      <td></td>\n",
              "      <td>F</td>\n",
              "      <td>52</td>\n",
              "      <td>CHEST</td>\n",
              "      <td>PA</td>\n",
              "      <td>1.2.276.0.7230010.3.1.2.8323329.11028.1517875229.983788</td>\n",
              "      <td>1.2.276.0.7230010.3.1.3.8323329.11028.1517875229.983787</td>\n",
              "      <td></td>\n",
              "      <td>1</td>\n",
              "      <td>1</td>\n",
              "      <td></td>\n",
              "      <td>1</td>\n",
              "      <td>MONOCHROME2</td>\n",
              "      <td>1024</td>\n",
              "      <td>1024</td>\n",
              "      <td>0.143</td>\n",
              "      <td>8</td>\n",
              "      <td>8</td>\n",
              "      <td>7</td>\n",
              "      <td>0</td>\n",
              "      <td>01</td>\n",
              "      <td>ISO_10918_1</td>\n",
              "      <td>/root/.fastai/data/siim_small/train/No Pneumothorax/000002.dcm</td>\n",
              "      <td>1</td>\n",
              "      <td>0.143</td>\n",
              "      <td>0</td>\n",
              "      <td>250</td>\n",
              "      <td>114.524713</td>\n",
              "      <td>70.752315</td>\n",
              "      <td>0.326269</td>\n",
              "    </tr>\n",
              "    <tr>\n",
              "      <th>2</th>\n",
              "      <td>ISO_IR 100</td>\n",
              "      <td>1.2.840.10008.5.1.4.1.1.7</td>\n",
              "      <td>1.2.276.0.7230010.3.1.4.8323329.3935.1517875180.205912</td>\n",
              "      <td>19010101</td>\n",
              "      <td>000000.00</td>\n",
              "      <td></td>\n",
              "      <td>CR</td>\n",
              "      <td>WSD</td>\n",
              "      <td></td>\n",
              "      <td>view: AP</td>\n",
              "      <td>(8, 5, e, 5, 1, 8, 0, 3, -, 3, 3, 4, 9, -, 4, 4, 2, e, -, a, b, 7, 0, -, a, 7, 5, 7, 8, d, e, 1, 4, 6, 2, e)</td>\n",
              "      <td>85e51803-3349-442e-ab70-a7578de1462e</td>\n",
              "      <td></td>\n",
              "      <td>M</td>\n",
              "      <td>64</td>\n",
              "      <td>CHEST</td>\n",
              "      <td>AP</td>\n",
              "      <td>1.2.276.0.7230010.3.1.2.8323329.3935.1517875180.205911</td>\n",
              "      <td>1.2.276.0.7230010.3.1.3.8323329.3935.1517875180.205910</td>\n",
              "      <td></td>\n",
              "      <td>1</td>\n",
              "      <td>1</td>\n",
              "      <td></td>\n",
              "      <td>1</td>\n",
              "      <td>MONOCHROME2</td>\n",
              "      <td>1024</td>\n",
              "      <td>1024</td>\n",
              "      <td>0.168</td>\n",
              "      <td>8</td>\n",
              "      <td>8</td>\n",
              "      <td>7</td>\n",
              "      <td>0</td>\n",
              "      <td>01</td>\n",
              "      <td>ISO_10918_1</td>\n",
              "      <td>/root/.fastai/data/siim_small/train/No Pneumothorax/000100.dcm</td>\n",
              "      <td>1</td>\n",
              "      <td>0.168</td>\n",
              "      <td>0</td>\n",
              "      <td>255</td>\n",
              "      <td>121.541831</td>\n",
              "      <td>35.967714</td>\n",
              "      <td>0.114437</td>\n",
              "    </tr>\n",
              "    <tr>\n",
              "      <th>3</th>\n",
              "      <td>ISO_IR 100</td>\n",
              "      <td>1.2.840.10008.5.1.4.1.1.7</td>\n",
              "      <td>1.2.276.0.7230010.3.1.4.8323329.32561.1517875161.229897</td>\n",
              "      <td>19010101</td>\n",
              "      <td>000000.00</td>\n",
              "      <td></td>\n",
              "      <td>CR</td>\n",
              "      <td>WSD</td>\n",
              "      <td></td>\n",
              "      <td>view: PA</td>\n",
              "      <td>(c, 6, a, 5, 7, f, b, a, -, 2, e, e, c, -, 4, 0, 5, 9, -, 8, f, 3, 8, -, 4, 9, 5, 4, 0, 7, 2, 5, c, e, 4, 4)</td>\n",
              "      <td>c6a57fba-2eec-4059-8f38-49540725ce44</td>\n",
              "      <td></td>\n",
              "      <td>F</td>\n",
              "      <td>61</td>\n",
              "      <td>CHEST</td>\n",
              "      <td>PA</td>\n",
              "      <td>1.2.276.0.7230010.3.1.2.8323329.32561.1517875161.229896</td>\n",
              "      <td>1.2.276.0.7230010.3.1.3.8323329.32561.1517875161.229895</td>\n",
              "      <td></td>\n",
              "      <td>1</td>\n",
              "      <td>1</td>\n",
              "      <td></td>\n",
              "      <td>1</td>\n",
              "      <td>MONOCHROME2</td>\n",
              "      <td>1024</td>\n",
              "      <td>1024</td>\n",
              "      <td>0.143</td>\n",
              "      <td>8</td>\n",
              "      <td>8</td>\n",
              "      <td>7</td>\n",
              "      <td>0</td>\n",
              "      <td>01</td>\n",
              "      <td>ISO_10918_1</td>\n",
              "      <td>/root/.fastai/data/siim_small/train/No Pneumothorax/000024.dcm</td>\n",
              "      <td>1</td>\n",
              "      <td>0.143</td>\n",
              "      <td>0</td>\n",
              "      <td>250</td>\n",
              "      <td>114.140481</td>\n",
              "      <td>70.934163</td>\n",
              "      <td>0.252062</td>\n",
              "    </tr>\n",
              "    <tr>\n",
              "      <th>4</th>\n",
              "      <td>ISO_IR 100</td>\n",
              "      <td>1.2.840.10008.5.1.4.1.1.7</td>\n",
              "      <td>1.2.276.0.7230010.3.1.4.8323329.5666.1517875189.384510</td>\n",
              "      <td>19010101</td>\n",
              "      <td>000000.00</td>\n",
              "      <td></td>\n",
              "      <td>CR</td>\n",
              "      <td>WSD</td>\n",
              "      <td></td>\n",
              "      <td>view: AP</td>\n",
              "      <td>(7, d, 3, f, 9, e, 3, 2, -, 9, 7, c, 4, -, 4, f, b, a, -, a, 6, 6, 5, -, 4, 9, d, b, a, d, f, 7, e, 6, 1, 0)</td>\n",
              "      <td>7d3f9e32-97c4-4fba-a665-49dbadf7e610</td>\n",
              "      <td></td>\n",
              "      <td>M</td>\n",
              "      <td>53</td>\n",
              "      <td>CHEST</td>\n",
              "      <td>AP</td>\n",
              "      <td>1.2.276.0.7230010.3.1.2.8323329.5666.1517875189.384509</td>\n",
              "      <td>1.2.276.0.7230010.3.1.3.8323329.5666.1517875189.384508</td>\n",
              "      <td></td>\n",
              "      <td>1</td>\n",
              "      <td>1</td>\n",
              "      <td></td>\n",
              "      <td>1</td>\n",
              "      <td>MONOCHROME2</td>\n",
              "      <td>1024</td>\n",
              "      <td>1024</td>\n",
              "      <td>0.139</td>\n",
              "      <td>8</td>\n",
              "      <td>8</td>\n",
              "      <td>7</td>\n",
              "      <td>0</td>\n",
              "      <td>01</td>\n",
              "      <td>ISO_10918_1</td>\n",
              "      <td>/root/.fastai/data/siim_small/train/No Pneumothorax/000112.dcm</td>\n",
              "      <td>1</td>\n",
              "      <td>0.139</td>\n",
              "      <td>0</td>\n",
              "      <td>255</td>\n",
              "      <td>135.008372</td>\n",
              "      <td>62.274443</td>\n",
              "      <td>0.196232</td>\n",
              "    </tr>\n",
              "  </tbody>\n",
              "</table>\n",
              "</div>"
            ],
            "text/plain": [
              "  SpecificCharacterSet                SOPClassUID  \\\n",
              "0           ISO_IR 100  1.2.840.10008.5.1.4.1.1.7   \n",
              "1           ISO_IR 100  1.2.840.10008.5.1.4.1.1.7   \n",
              "2           ISO_IR 100  1.2.840.10008.5.1.4.1.1.7   \n",
              "3           ISO_IR 100  1.2.840.10008.5.1.4.1.1.7   \n",
              "4           ISO_IR 100  1.2.840.10008.5.1.4.1.1.7   \n",
              "\n",
              "                                            SOPInstanceUID StudyDate  \\\n",
              "0   1.2.276.0.7230010.3.1.4.8323329.2231.1517875171.730913  19010101   \n",
              "1  1.2.276.0.7230010.3.1.4.8323329.11028.1517875229.983789  19010101   \n",
              "2   1.2.276.0.7230010.3.1.4.8323329.3935.1517875180.205912  19010101   \n",
              "3  1.2.276.0.7230010.3.1.4.8323329.32561.1517875161.229897  19010101   \n",
              "4   1.2.276.0.7230010.3.1.4.8323329.5666.1517875189.384510  19010101   \n",
              "\n",
              "   StudyTime AccessionNumber Modality ConversionType ReferringPhysicianName  \\\n",
              "0  000000.00                       CR            WSD                          \n",
              "1  000000.00                       CR            WSD                          \n",
              "2  000000.00                       CR            WSD                          \n",
              "3  000000.00                       CR            WSD                          \n",
              "4  000000.00                       CR            WSD                          \n",
              "\n",
              "  SeriesDescription  \\\n",
              "0          view: PA   \n",
              "1          view: PA   \n",
              "2          view: AP   \n",
              "3          view: PA   \n",
              "4          view: AP   \n",
              "\n",
              "                                                                                                    PatientName  \\\n",
              "0  (8, 4, 0, 6, 5, b, 2, 2, -, 9, 6, 7, f, -, 4, 9, 7, f, -, 8, 0, 8, 7, -, 6, 7, b, 0, f, f, 1, 7, 7, 5, a, 1)   \n",
              "1  (8, 5, 0, d, d, e, b, 3, -, 7, 3, a, c, -, 4, 5, e, 0, -, 9, 6, b, f, -, 7, d, 2, 7, 5, b, c, 8, 3, 7, 8, 2)   \n",
              "2  (8, 5, e, 5, 1, 8, 0, 3, -, 3, 3, 4, 9, -, 4, 4, 2, e, -, a, b, 7, 0, -, a, 7, 5, 7, 8, d, e, 1, 4, 6, 2, e)   \n",
              "3  (c, 6, a, 5, 7, f, b, a, -, 2, e, e, c, -, 4, 0, 5, 9, -, 8, f, 3, 8, -, 4, 9, 5, 4, 0, 7, 2, 5, c, e, 4, 4)   \n",
              "4  (7, d, 3, f, 9, e, 3, 2, -, 9, 7, c, 4, -, 4, f, b, a, -, a, 6, 6, 5, -, 4, 9, d, b, a, d, f, 7, e, 6, 1, 0)   \n",
              "\n",
              "                              PatientID PatientBirthDate PatientSex  \\\n",
              "0  84065b22-967f-497f-8087-67b0ff1775a1                           M   \n",
              "1  850ddeb3-73ac-45e0-96bf-7d275bc83782                           F   \n",
              "2  85e51803-3349-442e-ab70-a7578de1462e                           M   \n",
              "3  c6a57fba-2eec-4059-8f38-49540725ce44                           F   \n",
              "4  7d3f9e32-97c4-4fba-a665-49dbadf7e610                           M   \n",
              "\n",
              "  PatientAge BodyPartExamined ViewPosition  \\\n",
              "0         73            CHEST           PA   \n",
              "1         52            CHEST           PA   \n",
              "2         64            CHEST           AP   \n",
              "3         61            CHEST           PA   \n",
              "4         53            CHEST           AP   \n",
              "\n",
              "                                          StudyInstanceUID  \\\n",
              "0   1.2.276.0.7230010.3.1.2.8323329.2231.1517875171.730912   \n",
              "1  1.2.276.0.7230010.3.1.2.8323329.11028.1517875229.983788   \n",
              "2   1.2.276.0.7230010.3.1.2.8323329.3935.1517875180.205911   \n",
              "3  1.2.276.0.7230010.3.1.2.8323329.32561.1517875161.229896   \n",
              "4   1.2.276.0.7230010.3.1.2.8323329.5666.1517875189.384509   \n",
              "\n",
              "                                         SeriesInstanceUID StudyID  \\\n",
              "0   1.2.276.0.7230010.3.1.3.8323329.2231.1517875171.730911           \n",
              "1  1.2.276.0.7230010.3.1.3.8323329.11028.1517875229.983787           \n",
              "2   1.2.276.0.7230010.3.1.3.8323329.3935.1517875180.205910           \n",
              "3  1.2.276.0.7230010.3.1.3.8323329.32561.1517875161.229895           \n",
              "4   1.2.276.0.7230010.3.1.3.8323329.5666.1517875189.384508           \n",
              "\n",
              "   SeriesNumber  InstanceNumber PatientOrientation  SamplesPerPixel  \\\n",
              "0             1               1                                   1   \n",
              "1             1               1                                   1   \n",
              "2             1               1                                   1   \n",
              "3             1               1                                   1   \n",
              "4             1               1                                   1   \n",
              "\n",
              "  PhotometricInterpretation  Rows  Columns  PixelSpacing  BitsAllocated  \\\n",
              "0               MONOCHROME2  1024     1024         0.143              8   \n",
              "1               MONOCHROME2  1024     1024         0.143              8   \n",
              "2               MONOCHROME2  1024     1024         0.168              8   \n",
              "3               MONOCHROME2  1024     1024         0.143              8   \n",
              "4               MONOCHROME2  1024     1024         0.139              8   \n",
              "\n",
              "   BitsStored  HighBit  PixelRepresentation LossyImageCompression  \\\n",
              "0           8        7                    0                    01   \n",
              "1           8        7                    0                    01   \n",
              "2           8        7                    0                    01   \n",
              "3           8        7                    0                    01   \n",
              "4           8        7                    0                    01   \n",
              "\n",
              "  LossyImageCompressionMethod  \\\n",
              "0                 ISO_10918_1   \n",
              "1                 ISO_10918_1   \n",
              "2                 ISO_10918_1   \n",
              "3                 ISO_10918_1   \n",
              "4                 ISO_10918_1   \n",
              "\n",
              "                                                            fname  \\\n",
              "0  /root/.fastai/data/siim_small/train/No Pneumothorax/000164.dcm   \n",
              "1  /root/.fastai/data/siim_small/train/No Pneumothorax/000002.dcm   \n",
              "2  /root/.fastai/data/siim_small/train/No Pneumothorax/000100.dcm   \n",
              "3  /root/.fastai/data/siim_small/train/No Pneumothorax/000024.dcm   \n",
              "4  /root/.fastai/data/siim_small/train/No Pneumothorax/000112.dcm   \n",
              "\n",
              "   MultiPixelSpacing  PixelSpacing1  img_min  img_max    img_mean    img_std  \\\n",
              "0                  1          0.143        0      255  123.182117  73.225120   \n",
              "1                  1          0.143        0      250  114.524713  70.752315   \n",
              "2                  1          0.168        0      255  121.541831  35.967714   \n",
              "3                  1          0.143        0      250  114.140481  70.934163   \n",
              "4                  1          0.139        0      255  135.008372  62.274443   \n",
              "\n",
              "   img_pct_window  \n",
              "0        0.254707  \n",
              "1        0.326269  \n",
              "2        0.114437  \n",
              "3        0.252062  \n",
              "4        0.196232  "
            ]
          },
          "metadata": {
            "tags": []
          },
          "execution_count": 87
        }
      ]
    },
    {
      "cell_type": "markdown",
      "metadata": {
        "id": "10lqGL051qMT"
      },
      "source": [
        "Extracting labels from the dataset"
      ]
    },
    {
      "cell_type": "code",
      "metadata": {
        "colab": {
          "base_uri": "https://localhost:8080/",
          "height": 206
        },
        "id": "vj98Oz9p1c4c",
        "outputId": "0e3f09d1-e521-4d53-e71b-ac7116481d2a"
      },
      "source": [
        "labels = pd.read_csv(dataset/f\"labels.csv\")\n",
        "labels.head(5)  "
      ],
      "execution_count": 88,
      "outputs": [
        {
          "output_type": "execute_result",
          "data": {
            "text/html": [
              "<div>\n",
              "<style scoped>\n",
              "    .dataframe tbody tr th:only-of-type {\n",
              "        vertical-align: middle;\n",
              "    }\n",
              "\n",
              "    .dataframe tbody tr th {\n",
              "        vertical-align: top;\n",
              "    }\n",
              "\n",
              "    .dataframe thead th {\n",
              "        text-align: right;\n",
              "    }\n",
              "</style>\n",
              "<table border=\"1\" class=\"dataframe\">\n",
              "  <thead>\n",
              "    <tr style=\"text-align: right;\">\n",
              "      <th></th>\n",
              "      <th>file</th>\n",
              "      <th>label</th>\n",
              "    </tr>\n",
              "  </thead>\n",
              "  <tbody>\n",
              "    <tr>\n",
              "      <th>0</th>\n",
              "      <td>train/No Pneumothorax/000000.dcm</td>\n",
              "      <td>No Pneumothorax</td>\n",
              "    </tr>\n",
              "    <tr>\n",
              "      <th>1</th>\n",
              "      <td>train/Pneumothorax/000001.dcm</td>\n",
              "      <td>Pneumothorax</td>\n",
              "    </tr>\n",
              "    <tr>\n",
              "      <th>2</th>\n",
              "      <td>train/No Pneumothorax/000002.dcm</td>\n",
              "      <td>No Pneumothorax</td>\n",
              "    </tr>\n",
              "    <tr>\n",
              "      <th>3</th>\n",
              "      <td>train/Pneumothorax/000003.dcm</td>\n",
              "      <td>Pneumothorax</td>\n",
              "    </tr>\n",
              "    <tr>\n",
              "      <th>4</th>\n",
              "      <td>train/Pneumothorax/000004.dcm</td>\n",
              "      <td>Pneumothorax</td>\n",
              "    </tr>\n",
              "  </tbody>\n",
              "</table>\n",
              "</div>"
            ],
            "text/plain": [
              "                               file            label\n",
              "0  train/No Pneumothorax/000000.dcm  No Pneumothorax\n",
              "1     train/Pneumothorax/000001.dcm     Pneumothorax\n",
              "2  train/No Pneumothorax/000002.dcm  No Pneumothorax\n",
              "3     train/Pneumothorax/000003.dcm     Pneumothorax\n",
              "4     train/Pneumothorax/000004.dcm     Pneumothorax"
            ]
          },
          "metadata": {
            "tags": []
          },
          "execution_count": 88
        }
      ]
    },
    {
      "cell_type": "code",
      "metadata": {
        "colab": {
          "base_uri": "https://localhost:8080/"
        },
        "id": "E78aDStQ2mQS",
        "outputId": "dae7cded-a862-4c83-d560-9427d89ed6e7"
      },
      "source": [
        "labels.values"
      ],
      "execution_count": 89,
      "outputs": [
        {
          "output_type": "execute_result",
          "data": {
            "text/plain": [
              "array([['train/No Pneumothorax/000000.dcm', 'No Pneumothorax'],\n",
              "       ['train/Pneumothorax/000001.dcm', 'Pneumothorax'],\n",
              "       ['train/No Pneumothorax/000002.dcm', 'No Pneumothorax'],\n",
              "       ['train/Pneumothorax/000003.dcm', 'Pneumothorax'],\n",
              "       ['train/Pneumothorax/000004.dcm', 'Pneumothorax'],\n",
              "       ['train/No Pneumothorax/000005.dcm', 'No Pneumothorax'],\n",
              "       ['train/No Pneumothorax/000006.dcm', 'No Pneumothorax'],\n",
              "       ['train/No Pneumothorax/000007.dcm', 'No Pneumothorax'],\n",
              "       ['train/No Pneumothorax/000008.dcm', 'No Pneumothorax'],\n",
              "       ['train/No Pneumothorax/000009.dcm', 'No Pneumothorax'],\n",
              "       ['train/Pneumothorax/000010.dcm', 'Pneumothorax'],\n",
              "       ['train/No Pneumothorax/000011.dcm', 'No Pneumothorax'],\n",
              "       ['train/No Pneumothorax/000012.dcm', 'No Pneumothorax'],\n",
              "       ['train/Pneumothorax/000013.dcm', 'Pneumothorax'],\n",
              "       ['train/No Pneumothorax/000014.dcm', 'No Pneumothorax'],\n",
              "       ['train/No Pneumothorax/000015.dcm', 'No Pneumothorax'],\n",
              "       ['train/Pneumothorax/000016.dcm', 'Pneumothorax'],\n",
              "       ['train/No Pneumothorax/000017.dcm', 'No Pneumothorax'],\n",
              "       ['train/No Pneumothorax/000018.dcm', 'No Pneumothorax'],\n",
              "       ['train/No Pneumothorax/000019.dcm', 'No Pneumothorax'],\n",
              "       ['train/No Pneumothorax/000020.dcm', 'No Pneumothorax'],\n",
              "       ['train/Pneumothorax/000021.dcm', 'Pneumothorax'],\n",
              "       ['train/No Pneumothorax/000022.dcm', 'No Pneumothorax'],\n",
              "       ['train/No Pneumothorax/000023.dcm', 'No Pneumothorax'],\n",
              "       ['train/No Pneumothorax/000024.dcm', 'No Pneumothorax'],\n",
              "       ['train/No Pneumothorax/000025.dcm', 'No Pneumothorax'],\n",
              "       ['train/No Pneumothorax/000026.dcm', 'No Pneumothorax'],\n",
              "       ['train/No Pneumothorax/000027.dcm', 'No Pneumothorax'],\n",
              "       ['train/No Pneumothorax/000028.dcm', 'No Pneumothorax'],\n",
              "       ['train/Pneumothorax/000029.dcm', 'Pneumothorax'],\n",
              "       ['train/No Pneumothorax/000030.dcm', 'No Pneumothorax'],\n",
              "       ['train/No Pneumothorax/000031.dcm', 'No Pneumothorax'],\n",
              "       ['train/No Pneumothorax/000032.dcm', 'No Pneumothorax'],\n",
              "       ['train/No Pneumothorax/000033.dcm', 'No Pneumothorax'],\n",
              "       ['train/No Pneumothorax/000034.dcm', 'No Pneumothorax'],\n",
              "       ['train/No Pneumothorax/000035.dcm', 'No Pneumothorax'],\n",
              "       ['train/No Pneumothorax/000036.dcm', 'No Pneumothorax'],\n",
              "       ['train/No Pneumothorax/000037.dcm', 'No Pneumothorax'],\n",
              "       ['train/Pneumothorax/000038.dcm', 'Pneumothorax'],\n",
              "       ['train/No Pneumothorax/000039.dcm', 'No Pneumothorax'],\n",
              "       ['train/No Pneumothorax/000040.dcm', 'No Pneumothorax'],\n",
              "       ['train/No Pneumothorax/000041.dcm', 'No Pneumothorax'],\n",
              "       ['train/Pneumothorax/000042.dcm', 'Pneumothorax'],\n",
              "       ['train/Pneumothorax/000043.dcm', 'Pneumothorax'],\n",
              "       ['train/No Pneumothorax/000044.dcm', 'No Pneumothorax'],\n",
              "       ['train/No Pneumothorax/000045.dcm', 'No Pneumothorax'],\n",
              "       ['train/Pneumothorax/000046.dcm', 'Pneumothorax'],\n",
              "       ['train/No Pneumothorax/000047.dcm', 'No Pneumothorax'],\n",
              "       ['train/No Pneumothorax/000048.dcm', 'No Pneumothorax'],\n",
              "       ['train/Pneumothorax/000049.dcm', 'Pneumothorax'],\n",
              "       ['train/Pneumothorax/000050.dcm', 'Pneumothorax'],\n",
              "       ['train/No Pneumothorax/000051.dcm', 'No Pneumothorax'],\n",
              "       ['train/Pneumothorax/000052.dcm', 'Pneumothorax'],\n",
              "       ['train/No Pneumothorax/000053.dcm', 'No Pneumothorax'],\n",
              "       ['train/No Pneumothorax/000054.dcm', 'No Pneumothorax'],\n",
              "       ['train/Pneumothorax/000055.dcm', 'Pneumothorax'],\n",
              "       ['train/No Pneumothorax/000056.dcm', 'No Pneumothorax'],\n",
              "       ['train/No Pneumothorax/000057.dcm', 'No Pneumothorax'],\n",
              "       ['train/Pneumothorax/000058.dcm', 'Pneumothorax'],\n",
              "       ['train/No Pneumothorax/000059.dcm', 'No Pneumothorax'],\n",
              "       ['train/Pneumothorax/000060.dcm', 'Pneumothorax'],\n",
              "       ['train/Pneumothorax/000061.dcm', 'Pneumothorax'],\n",
              "       ['train/No Pneumothorax/000062.dcm', 'No Pneumothorax'],\n",
              "       ['train/No Pneumothorax/000063.dcm', 'No Pneumothorax'],\n",
              "       ['train/Pneumothorax/000064.dcm', 'Pneumothorax'],\n",
              "       ['train/Pneumothorax/000065.dcm', 'Pneumothorax'],\n",
              "       ['train/No Pneumothorax/000066.dcm', 'No Pneumothorax'],\n",
              "       ['train/No Pneumothorax/000067.dcm', 'No Pneumothorax'],\n",
              "       ['train/Pneumothorax/000068.dcm', 'Pneumothorax'],\n",
              "       ['train/No Pneumothorax/000069.dcm', 'No Pneumothorax'],\n",
              "       ['train/Pneumothorax/000070.dcm', 'Pneumothorax'],\n",
              "       ['train/No Pneumothorax/000071.dcm', 'No Pneumothorax'],\n",
              "       ['train/No Pneumothorax/000072.dcm', 'No Pneumothorax'],\n",
              "       ['train/No Pneumothorax/000073.dcm', 'No Pneumothorax'],\n",
              "       ['train/No Pneumothorax/000074.dcm', 'No Pneumothorax'],\n",
              "       ['train/No Pneumothorax/000075.dcm', 'No Pneumothorax'],\n",
              "       ['train/Pneumothorax/000076.dcm', 'Pneumothorax'],\n",
              "       ['train/No Pneumothorax/000077.dcm', 'No Pneumothorax'],\n",
              "       ['train/No Pneumothorax/000078.dcm', 'No Pneumothorax'],\n",
              "       ['train/No Pneumothorax/000079.dcm', 'No Pneumothorax'],\n",
              "       ['train/No Pneumothorax/000080.dcm', 'No Pneumothorax'],\n",
              "       ['train/Pneumothorax/000081.dcm', 'Pneumothorax'],\n",
              "       ['train/No Pneumothorax/000082.dcm', 'No Pneumothorax'],\n",
              "       ['train/Pneumothorax/000083.dcm', 'Pneumothorax'],\n",
              "       ['train/Pneumothorax/000084.dcm', 'Pneumothorax'],\n",
              "       ['train/No Pneumothorax/000085.dcm', 'No Pneumothorax'],\n",
              "       ['train/Pneumothorax/000086.dcm', 'Pneumothorax'],\n",
              "       ['train/No Pneumothorax/000087.dcm', 'No Pneumothorax'],\n",
              "       ['train/No Pneumothorax/000088.dcm', 'No Pneumothorax'],\n",
              "       ['train/No Pneumothorax/000089.dcm', 'No Pneumothorax'],\n",
              "       ['train/No Pneumothorax/000090.dcm', 'No Pneumothorax'],\n",
              "       ['train/No Pneumothorax/000091.dcm', 'No Pneumothorax'],\n",
              "       ['train/No Pneumothorax/000092.dcm', 'No Pneumothorax'],\n",
              "       ['train/No Pneumothorax/000093.dcm', 'No Pneumothorax'],\n",
              "       ['train/No Pneumothorax/000094.dcm', 'No Pneumothorax'],\n",
              "       ['train/No Pneumothorax/000095.dcm', 'No Pneumothorax'],\n",
              "       ['train/No Pneumothorax/000096.dcm', 'No Pneumothorax'],\n",
              "       ['train/No Pneumothorax/000097.dcm', 'No Pneumothorax'],\n",
              "       ['train/No Pneumothorax/000098.dcm', 'No Pneumothorax'],\n",
              "       ['train/No Pneumothorax/000099.dcm', 'No Pneumothorax'],\n",
              "       ['train/No Pneumothorax/000100.dcm', 'No Pneumothorax'],\n",
              "       ['train/Pneumothorax/000101.dcm', 'Pneumothorax'],\n",
              "       ['train/No Pneumothorax/000102.dcm', 'No Pneumothorax'],\n",
              "       ['train/No Pneumothorax/000103.dcm', 'No Pneumothorax'],\n",
              "       ['train/No Pneumothorax/000104.dcm', 'No Pneumothorax'],\n",
              "       ['train/No Pneumothorax/000105.dcm', 'No Pneumothorax'],\n",
              "       ['train/Pneumothorax/000106.dcm', 'Pneumothorax'],\n",
              "       ['train/Pneumothorax/000107.dcm', 'Pneumothorax'],\n",
              "       ['train/No Pneumothorax/000108.dcm', 'No Pneumothorax'],\n",
              "       ['train/No Pneumothorax/000109.dcm', 'No Pneumothorax'],\n",
              "       ['train/No Pneumothorax/000110.dcm', 'No Pneumothorax'],\n",
              "       ['train/Pneumothorax/000111.dcm', 'Pneumothorax'],\n",
              "       ['train/No Pneumothorax/000112.dcm', 'No Pneumothorax'],\n",
              "       ['train/No Pneumothorax/000113.dcm', 'No Pneumothorax'],\n",
              "       ['train/No Pneumothorax/000114.dcm', 'No Pneumothorax'],\n",
              "       ['train/No Pneumothorax/000115.dcm', 'No Pneumothorax'],\n",
              "       ['train/No Pneumothorax/000116.dcm', 'No Pneumothorax'],\n",
              "       ['train/Pneumothorax/000117.dcm', 'Pneumothorax'],\n",
              "       ['train/No Pneumothorax/000118.dcm', 'No Pneumothorax'],\n",
              "       ['train/No Pneumothorax/000119.dcm', 'No Pneumothorax'],\n",
              "       ['train/Pneumothorax/000120.dcm', 'Pneumothorax'],\n",
              "       ['train/No Pneumothorax/000121.dcm', 'No Pneumothorax'],\n",
              "       ['train/No Pneumothorax/000122.dcm', 'No Pneumothorax'],\n",
              "       ['train/No Pneumothorax/000123.dcm', 'No Pneumothorax'],\n",
              "       ['train/No Pneumothorax/000124.dcm', 'No Pneumothorax'],\n",
              "       ['train/Pneumothorax/000125.dcm', 'Pneumothorax'],\n",
              "       ['train/Pneumothorax/000126.dcm', 'Pneumothorax'],\n",
              "       ['train/No Pneumothorax/000127.dcm', 'No Pneumothorax'],\n",
              "       ['train/No Pneumothorax/000128.dcm', 'No Pneumothorax'],\n",
              "       ['train/Pneumothorax/000129.dcm', 'Pneumothorax'],\n",
              "       ['train/Pneumothorax/000130.dcm', 'Pneumothorax'],\n",
              "       ['train/No Pneumothorax/000131.dcm', 'No Pneumothorax'],\n",
              "       ['train/No Pneumothorax/000132.dcm', 'No Pneumothorax'],\n",
              "       ['train/No Pneumothorax/000133.dcm', 'No Pneumothorax'],\n",
              "       ['train/Pneumothorax/000134.dcm', 'Pneumothorax'],\n",
              "       ['train/No Pneumothorax/000135.dcm', 'No Pneumothorax'],\n",
              "       ['train/No Pneumothorax/000136.dcm', 'No Pneumothorax'],\n",
              "       ['train/No Pneumothorax/000137.dcm', 'No Pneumothorax'],\n",
              "       ['train/No Pneumothorax/000138.dcm', 'No Pneumothorax'],\n",
              "       ['train/Pneumothorax/000139.dcm', 'Pneumothorax'],\n",
              "       ['train/Pneumothorax/000140.dcm', 'Pneumothorax'],\n",
              "       ['train/No Pneumothorax/000141.dcm', 'No Pneumothorax'],\n",
              "       ['train/Pneumothorax/000142.dcm', 'Pneumothorax'],\n",
              "       ['train/No Pneumothorax/000143.dcm', 'No Pneumothorax'],\n",
              "       ['train/Pneumothorax/000144.dcm', 'Pneumothorax'],\n",
              "       ['train/Pneumothorax/000145.dcm', 'Pneumothorax'],\n",
              "       ['train/No Pneumothorax/000146.dcm', 'No Pneumothorax'],\n",
              "       ['train/No Pneumothorax/000147.dcm', 'No Pneumothorax'],\n",
              "       ['train/No Pneumothorax/000148.dcm', 'No Pneumothorax'],\n",
              "       ['train/No Pneumothorax/000149.dcm', 'No Pneumothorax'],\n",
              "       ['train/No Pneumothorax/000150.dcm', 'No Pneumothorax'],\n",
              "       ['train/Pneumothorax/000151.dcm', 'Pneumothorax'],\n",
              "       ['train/Pneumothorax/000152.dcm', 'Pneumothorax'],\n",
              "       ['train/Pneumothorax/000153.dcm', 'Pneumothorax'],\n",
              "       ['train/Pneumothorax/000154.dcm', 'Pneumothorax'],\n",
              "       ['train/Pneumothorax/000155.dcm', 'Pneumothorax'],\n",
              "       ['train/No Pneumothorax/000156.dcm', 'No Pneumothorax'],\n",
              "       ['train/Pneumothorax/000157.dcm', 'Pneumothorax'],\n",
              "       ['train/Pneumothorax/000158.dcm', 'Pneumothorax'],\n",
              "       ['train/No Pneumothorax/000159.dcm', 'No Pneumothorax'],\n",
              "       ['train/No Pneumothorax/000160.dcm', 'No Pneumothorax'],\n",
              "       ['train/Pneumothorax/000161.dcm', 'Pneumothorax'],\n",
              "       ['train/No Pneumothorax/000162.dcm', 'No Pneumothorax'],\n",
              "       ['train/No Pneumothorax/000163.dcm', 'No Pneumothorax'],\n",
              "       ['train/No Pneumothorax/000164.dcm', 'No Pneumothorax'],\n",
              "       ['train/No Pneumothorax/000165.dcm', 'No Pneumothorax'],\n",
              "       ['train/No Pneumothorax/000166.dcm', 'No Pneumothorax'],\n",
              "       ['train/No Pneumothorax/000167.dcm', 'No Pneumothorax'],\n",
              "       ['train/No Pneumothorax/000168.dcm', 'No Pneumothorax'],\n",
              "       ['train/No Pneumothorax/000169.dcm', 'No Pneumothorax'],\n",
              "       ['train/Pneumothorax/000170.dcm', 'Pneumothorax'],\n",
              "       ['train/No Pneumothorax/000171.dcm', 'No Pneumothorax'],\n",
              "       ['train/No Pneumothorax/000172.dcm', 'No Pneumothorax'],\n",
              "       ['train/Pneumothorax/000173.dcm', 'Pneumothorax'],\n",
              "       ['train/No Pneumothorax/000174.dcm', 'No Pneumothorax'],\n",
              "       ['train/No Pneumothorax/000175.dcm', 'No Pneumothorax'],\n",
              "       ['train/No Pneumothorax/000176.dcm', 'No Pneumothorax'],\n",
              "       ['train/No Pneumothorax/000177.dcm', 'No Pneumothorax'],\n",
              "       ['train/No Pneumothorax/000178.dcm', 'No Pneumothorax'],\n",
              "       ['train/No Pneumothorax/000179.dcm', 'No Pneumothorax'],\n",
              "       ['train/No Pneumothorax/000180.dcm', 'No Pneumothorax'],\n",
              "       ['train/Pneumothorax/000181.dcm', 'Pneumothorax'],\n",
              "       ['train/No Pneumothorax/000182.dcm', 'No Pneumothorax'],\n",
              "       ['train/No Pneumothorax/000183.dcm', 'No Pneumothorax'],\n",
              "       ['train/No Pneumothorax/000184.dcm', 'No Pneumothorax'],\n",
              "       ['train/Pneumothorax/000185.dcm', 'Pneumothorax'],\n",
              "       ['train/No Pneumothorax/000186.dcm', 'No Pneumothorax'],\n",
              "       ['train/Pneumothorax/000187.dcm', 'Pneumothorax'],\n",
              "       ['train/No Pneumothorax/000188.dcm', 'No Pneumothorax'],\n",
              "       ['train/Pneumothorax/000189.dcm', 'Pneumothorax'],\n",
              "       ['train/No Pneumothorax/000190.dcm', 'No Pneumothorax'],\n",
              "       ['train/Pneumothorax/000191.dcm', 'Pneumothorax'],\n",
              "       ['train/No Pneumothorax/000192.dcm', 'No Pneumothorax'],\n",
              "       ['train/No Pneumothorax/000193.dcm', 'No Pneumothorax'],\n",
              "       ['train/No Pneumothorax/000194.dcm', 'No Pneumothorax'],\n",
              "       ['train/No Pneumothorax/000195.dcm', 'No Pneumothorax'],\n",
              "       ['train/No Pneumothorax/000196.dcm', 'No Pneumothorax'],\n",
              "       ['train/No Pneumothorax/000197.dcm', 'No Pneumothorax'],\n",
              "       ['train/No Pneumothorax/000198.dcm', 'No Pneumothorax'],\n",
              "       ['train/Pneumothorax/000199.dcm', 'Pneumothorax'],\n",
              "       ['train/Pneumothorax/000200.dcm', 'Pneumothorax'],\n",
              "       ['train/Pneumothorax/000201.dcm', 'Pneumothorax'],\n",
              "       ['train/No Pneumothorax/000202.dcm', 'No Pneumothorax'],\n",
              "       ['train/No Pneumothorax/000203.dcm', 'No Pneumothorax'],\n",
              "       ['train/No Pneumothorax/000204.dcm', 'No Pneumothorax'],\n",
              "       ['train/No Pneumothorax/000205.dcm', 'No Pneumothorax'],\n",
              "       ['train/No Pneumothorax/000206.dcm', 'No Pneumothorax'],\n",
              "       ['train/No Pneumothorax/000207.dcm', 'No Pneumothorax'],\n",
              "       ['train/No Pneumothorax/000208.dcm', 'No Pneumothorax'],\n",
              "       ['train/No Pneumothorax/000209.dcm', 'No Pneumothorax'],\n",
              "       ['train/No Pneumothorax/000210.dcm', 'No Pneumothorax'],\n",
              "       ['train/No Pneumothorax/000211.dcm', 'No Pneumothorax'],\n",
              "       ['train/No Pneumothorax/000212.dcm', 'No Pneumothorax'],\n",
              "       ['train/Pneumothorax/000213.dcm', 'Pneumothorax'],\n",
              "       ['train/Pneumothorax/000214.dcm', 'Pneumothorax'],\n",
              "       ['train/No Pneumothorax/000215.dcm', 'No Pneumothorax'],\n",
              "       ['train/No Pneumothorax/000216.dcm', 'No Pneumothorax'],\n",
              "       ['train/Pneumothorax/000217.dcm', 'Pneumothorax'],\n",
              "       ['train/No Pneumothorax/000218.dcm', 'No Pneumothorax'],\n",
              "       ['train/Pneumothorax/000219.dcm', 'Pneumothorax'],\n",
              "       ['train/No Pneumothorax/000220.dcm', 'No Pneumothorax'],\n",
              "       ['train/No Pneumothorax/000221.dcm', 'No Pneumothorax'],\n",
              "       ['train/Pneumothorax/000222.dcm', 'Pneumothorax'],\n",
              "       ['train/Pneumothorax/000223.dcm', 'Pneumothorax'],\n",
              "       ['train/No Pneumothorax/000224.dcm', 'No Pneumothorax'],\n",
              "       ['train/No Pneumothorax/000225.dcm', 'No Pneumothorax'],\n",
              "       ['train/No Pneumothorax/000226.dcm', 'No Pneumothorax'],\n",
              "       ['train/Pneumothorax/000227.dcm', 'Pneumothorax'],\n",
              "       ['train/No Pneumothorax/000228.dcm', 'No Pneumothorax'],\n",
              "       ['train/No Pneumothorax/000229.dcm', 'No Pneumothorax'],\n",
              "       ['train/No Pneumothorax/000230.dcm', 'No Pneumothorax'],\n",
              "       ['train/No Pneumothorax/000231.dcm', 'No Pneumothorax'],\n",
              "       ['train/Pneumothorax/000232.dcm', 'Pneumothorax'],\n",
              "       ['train/Pneumothorax/000233.dcm', 'Pneumothorax'],\n",
              "       ['train/No Pneumothorax/000234.dcm', 'No Pneumothorax'],\n",
              "       ['train/No Pneumothorax/000235.dcm', 'No Pneumothorax'],\n",
              "       ['train/Pneumothorax/000236.dcm', 'Pneumothorax'],\n",
              "       ['train/No Pneumothorax/000237.dcm', 'No Pneumothorax'],\n",
              "       ['train/Pneumothorax/000238.dcm', 'Pneumothorax'],\n",
              "       ['train/No Pneumothorax/000239.dcm', 'No Pneumothorax'],\n",
              "       ['train/Pneumothorax/000240.dcm', 'Pneumothorax'],\n",
              "       ['train/No Pneumothorax/000241.dcm', 'No Pneumothorax'],\n",
              "       ['train/No Pneumothorax/000242.dcm', 'No Pneumothorax'],\n",
              "       ['train/No Pneumothorax/000243.dcm', 'No Pneumothorax'],\n",
              "       ['train/No Pneumothorax/000244.dcm', 'No Pneumothorax'],\n",
              "       ['train/No Pneumothorax/000245.dcm', 'No Pneumothorax'],\n",
              "       ['train/No Pneumothorax/000246.dcm', 'No Pneumothorax'],\n",
              "       ['train/Pneumothorax/000247.dcm', 'Pneumothorax'],\n",
              "       ['train/No Pneumothorax/000248.dcm', 'No Pneumothorax'],\n",
              "       ['train/No Pneumothorax/000249.dcm', 'No Pneumothorax']], dtype=object)"
            ]
          },
          "metadata": {
            "tags": []
          },
          "execution_count": 89
        }
      ]
    },
    {
      "cell_type": "markdown",
      "metadata": {
        "id": "ZVFhD4mA2Hxw"
      },
      "source": [
        "# Data Preparation"
      ]
    },
    {
      "cell_type": "code",
      "metadata": {
        "id": "H61GQtPtHpA4"
      },
      "source": [
        "block = DataBlock(\n",
        "    blocks=(ImageBlock(cls=PILDicom),CategoryBlock),\n",
        "    get_x = lambda x: dataset/f\"{x[0]}\",\n",
        "    get_y = lambda x: x[1],\n",
        "    batch_tfms=[*aug_transforms(size=112),Normalize.from_stats(*imagenet_stats)]\n",
        ")\n",
        "dls = block.dataloaders(labels.values, num_workers=0,bs=2)"
      ],
      "execution_count": 90,
      "outputs": []
    },
    {
      "cell_type": "code",
      "metadata": {
        "id": "0ExsN3PSKK03"
      },
      "source": [
        "import torch\n",
        "torch.cuda.empty_cache()"
      ],
      "execution_count": 91,
      "outputs": []
    },
    {
      "cell_type": "code",
      "metadata": {
        "colab": {
          "base_uri": "https://localhost:8080/",
          "height": 200
        },
        "id": "A6ENbe6lHrms",
        "outputId": "d6b7cacc-69dd-46c7-87b9-e5a6d4c2ea08"
      },
      "source": [
        "#dls = block.dataloaders(labels.values, item_tfms=Resize(100), bs=2)\n",
        "dls.show_batch()"
      ],
      "execution_count": 92,
      "outputs": [
        {
          "output_type": "display_data",
          "data": {
            "image/png": "[encoded data removed]",
            "text/plain": [
              "<Figure size 432x216 with 2 Axes>"
            ]
          },
          "metadata": {
            "tags": [],
            "needs_background": "light"
          }
        }
      ]
    },
    {
      "cell_type": "markdown",
      "metadata": {
        "id": "M3QH6dt2HxOT"
      },
      "source": [
        "#Training"
      ]
    },
    {
      "cell_type": "code",
      "metadata": {
        "id": "_4WX3UhfHvrg"
      },
      "source": [
        "learn = cnn_learner(dls, resnet34, metrics=accuracy)"
      ],
      "execution_count": 93,
      "outputs": []
    },
    {
      "cell_type": "code",
      "metadata": {
        "id": "Uu9q4Je2shDh",
        "colab": {
          "base_uri": "https://localhost:8080/"
        },
        "outputId": "66f9a922-be24-441f-97e2-679c4654603e"
      },
      "source": [
        "#since we did not mention the loss function explicity, fastai chooses the most appropriate loss for the task\n",
        "learn.loss_func"
      ],
      "execution_count": 94,
      "outputs": [
        {
          "output_type": "execute_result",
          "data": {
            "text/plain": [
              "FlattenedLoss of CrossEntropyLoss()"
            ]
          },
          "metadata": {
            "tags": []
          },
          "execution_count": 94
        }
      ]
    },
    {
      "cell_type": "code",
      "metadata": {
        "id": "XbUMXOFNs7R5",
        "colab": {
          "base_uri": "https://localhost:8080/"
        },
        "outputId": "1158ec40-5c9f-4274-890d-c491c0fbbe22"
      },
      "source": [
        "#also the optimizer can be checked\n",
        "learn.opt_func"
      ],
      "execution_count": 95,
      "outputs": [
        {
          "output_type": "execute_result",
          "data": {
            "text/plain": [
              "<function fastai.optimizer.Adam>"
            ]
          },
          "metadata": {
            "tags": []
          },
          "execution_count": 95
        }
      ]
    },
    {
      "cell_type": "code",
      "metadata": {
        "id": "Q8s9geT3tGCX",
        "colab": {
          "base_uri": "https://localhost:8080/",
          "height": 289
        },
        "outputId": "1890f378-2ecf-408d-9a15-77d13b610856"
      },
      "source": [
        "#let us find the best learning rate\n",
        "learn.lr_find()"
      ],
      "execution_count": 96,
      "outputs": [
        {
          "output_type": "display_data",
          "data": {
            "text/html": [
              ""
            ],
            "text/plain": [
              "<IPython.core.display.HTML object>"
            ]
          },
          "metadata": {
            "tags": []
          }
        },
        {
          "output_type": "display_data",
          "data": {
            "image/png": "[encoded data removed]",
            "text/plain": [
              "<Figure size 432x288 with 1 Axes>"
            ]
          },
          "metadata": {
            "tags": [],
            "needs_background": "light"
          }
        }
      ]
    },
    {
      "cell_type": "code",
      "metadata": {
        "colab": {
          "base_uri": "https://localhost:8080/",
          "height": 363
        },
        "id": "dsv7uec5H3dx",
        "outputId": "418da675-c8f6-444b-8c81-78a012eab6c5"
      },
      "source": [
        "learn.fit_one_cycle(10)"
      ],
      "execution_count": 97,
      "outputs": [
        {
          "output_type": "display_data",
          "data": {
            "text/html": [
              "<table border=\"1\" class=\"dataframe\">\n",
              "  <thead>\n",
              "    <tr style=\"text-align: left;\">\n",
              "      <th>epoch</th>\n",
              "      <th>train_loss</th>\n",
              "      <th>valid_loss</th>\n",
              "      <th>accuracy</th>\n",
              "      <th>time</th>\n",
              "    </tr>\n",
              "  </thead>\n",
              "  <tbody>\n",
              "    <tr>\n",
              "      <td>0</td>\n",
              "      <td>1.178106</td>\n",
              "      <td>1.118915</td>\n",
              "      <td>0.480000</td>\n",
              "      <td>00:07</td>\n",
              "    </tr>\n",
              "    <tr>\n",
              "      <td>1</td>\n",
              "      <td>1.170975</td>\n",
              "      <td>1.078653</td>\n",
              "      <td>0.580000</td>\n",
              "      <td>00:07</td>\n",
              "    </tr>\n",
              "    <tr>\n",
              "      <td>2</td>\n",
              "      <td>1.063870</td>\n",
              "      <td>0.872513</td>\n",
              "      <td>0.640000</td>\n",
              "      <td>00:07</td>\n",
              "    </tr>\n",
              "    <tr>\n",
              "      <td>3</td>\n",
              "      <td>0.990182</td>\n",
              "      <td>0.694237</td>\n",
              "      <td>0.720000</td>\n",
              "      <td>00:07</td>\n",
              "    </tr>\n",
              "    <tr>\n",
              "      <td>4</td>\n",
              "      <td>0.939466</td>\n",
              "      <td>0.605685</td>\n",
              "      <td>0.760000</td>\n",
              "      <td>00:07</td>\n",
              "    </tr>\n",
              "    <tr>\n",
              "      <td>5</td>\n",
              "      <td>0.913625</td>\n",
              "      <td>0.623595</td>\n",
              "      <td>0.760000</td>\n",
              "      <td>00:07</td>\n",
              "    </tr>\n",
              "    <tr>\n",
              "      <td>6</td>\n",
              "      <td>0.894804</td>\n",
              "      <td>0.848188</td>\n",
              "      <td>0.560000</td>\n",
              "      <td>00:07</td>\n",
              "    </tr>\n",
              "    <tr>\n",
              "      <td>7</td>\n",
              "      <td>0.780541</td>\n",
              "      <td>0.689916</td>\n",
              "      <td>0.700000</td>\n",
              "      <td>00:07</td>\n",
              "    </tr>\n",
              "    <tr>\n",
              "      <td>8</td>\n",
              "      <td>0.878990</td>\n",
              "      <td>0.705126</td>\n",
              "      <td>0.620000</td>\n",
              "      <td>00:07</td>\n",
              "    </tr>\n",
              "    <tr>\n",
              "      <td>9</td>\n",
              "      <td>0.883768</td>\n",
              "      <td>0.718757</td>\n",
              "      <td>0.620000</td>\n",
              "      <td>00:07</td>\n",
              "    </tr>\n",
              "  </tbody>\n",
              "</table>"
            ],
            "text/plain": [
              "<IPython.core.display.HTML object>"
            ]
          },
          "metadata": {
            "tags": []
          }
        }
      ]
    },
    {
      "cell_type": "code",
      "metadata": {
        "colab": {
          "base_uri": "https://localhost:8080/"
        },
        "id": "vygM53gUWlaY",
        "outputId": "349a1953-6e71-4c20-9b47-6910031aa993"
      },
      "source": [
        "learn.save(\"112-model\")"
      ],
      "execution_count": 98,
      "outputs": [
        {
          "output_type": "execute_result",
          "data": {
            "text/plain": [
              "Path('models/112-model.pth')"
            ]
          },
          "metadata": {
            "tags": []
          },
          "execution_count": 98
        }
      ]
    },
    {
      "cell_type": "code",
      "metadata": {
        "colab": {
          "base_uri": "https://localhost:8080/",
          "height": 34
        },
        "id": "GJ7Z7oTvH8Wf",
        "outputId": "31aa1182-aec0-4005-aa21-aa130a5a8a59"
      },
      "source": [
        "learn.predict(dataset/f\"train/Pneumothorax/000004.dcm\")"
      ],
      "execution_count": 99,
      "outputs": [
        {
          "output_type": "display_data",
          "data": {
            "text/html": [
              ""
            ],
            "text/plain": [
              "<IPython.core.display.HTML object>"
            ]
          },
          "metadata": {
            "tags": []
          }
        },
        {
          "output_type": "execute_result",
          "data": {
            "text/plain": [
              "('No Pneumothorax', tensor(0), tensor([0.8054, 0.1946]))"
            ]
          },
          "metadata": {
            "tags": []
          },
          "execution_count": 99
        }
      ]
    },
    {
      "cell_type": "code",
      "metadata": {
        "id": "N8I6SBhQIGHG",
        "colab": {
          "base_uri": "https://localhost:8080/",
          "height": 37
        },
        "outputId": "3800e8ff-5b53-44d6-833b-3b123034f30b"
      },
      "source": [
        "tta = learn.tta(use_max=True)"
      ],
      "execution_count": 100,
      "outputs": [
        {
          "output_type": "display_data",
          "data": {
            "text/html": [
              "\n",
              "    <div>\n",
              "        <style>\n",
              "            /* Turns off some styling */\n",
              "            progress {\n",
              "                /* gets rid of default border in Firefox and Opera. */\n",
              "                border: none;\n",
              "                /* Needs to be in here for Safari polyfill so background images work as expected. */\n",
              "                background-size: auto;\n",
              "            }\n",
              "            .progress-bar-interrupted, .progress-bar-interrupted::-webkit-progress-bar {\n",
              "                background: #F44336;\n",
              "            }\n",
              "        </style>\n",
              "      <progress value='0' class='' max='10' style='width:300px; height:20px; vertical-align: middle;'></progress>\n",
              "      \n",
              "    </div>\n",
              "    \n"
            ],
            "text/plain": [
              "<IPython.core.display.HTML object>"
            ]
          },
          "metadata": {
            "tags": []
          }
        },
        {
          "output_type": "display_data",
          "data": {
            "text/html": [
              ""
            ],
            "text/plain": [
              "<IPython.core.display.HTML object>"
            ]
          },
          "metadata": {
            "tags": []
          }
        }
      ]
    },
    {
      "cell_type": "code",
      "metadata": {
        "id": "xLEqyC9RIJiM",
        "colab": {
          "base_uri": "https://localhost:8080/",
          "height": 216
        },
        "outputId": "82e2f5ae-4aef-4705-9f61-91c476ba5239"
      },
      "source": [
        "learn.show_results(max_n=16)"
      ],
      "execution_count": 101,
      "outputs": [
        {
          "output_type": "display_data",
          "data": {
            "text/html": [
              ""
            ],
            "text/plain": [
              "<IPython.core.display.HTML object>"
            ]
          },
          "metadata": {
            "tags": []
          }
        },
        {
          "output_type": "display_data",
          "data": {
            "image/png": "[encoded data removed]",
            "text/plain": [
              "<Figure size 432x216 with 2 Axes>"
            ]
          },
          "metadata": {
            "tags": [],
            "needs_background": "light"
          }
        }
      ]
    },
    {
      "cell_type": "code",
      "metadata": {
        "id": "FqafkuNiu9Z8",
        "colab": {
          "base_uri": "https://localhost:8080/",
          "height": 400
        },
        "outputId": "8c790756-87f6-48a1-faa5-f417f0ace25c"
      },
      "source": [
        "interpretation = Interpretation.from_learner(learn)\n",
        "interpretation.plot_top_losses(5)"
      ],
      "execution_count": 102,
      "outputs": [
        {
          "output_type": "display_data",
          "data": {
            "text/html": [
              ""
            ],
            "text/plain": [
              "<IPython.core.display.HTML object>"
            ]
          },
          "metadata": {
            "tags": []
          }
        },
        {
          "output_type": "display_data",
          "data": {
            "image/png": "[encoded data removed]",
            "text/plain": [
              "<Figure size 648x432 with 6 Axes>"
            ]
          },
          "metadata": {
            "tags": [],
            "needs_background": "light"
          }
        }
      ]
    },
    {
      "cell_type": "code",
      "metadata": {
        "id": "5DBrfxBOIK3Y",
        "colab": {
          "base_uri": "https://localhost:8080/",
          "height": 526
        },
        "outputId": "a753170c-2475-494b-a852-21c8defd4e10"
      },
      "source": [
        "interp = ClassificationInterpretation.from_learner(learn)\n",
        "losses,idxs = interp.top_losses()\n",
        "len(dls.valid_ds)==len(losses)==len(idxs)\n",
        "interp.plot_confusion_matrix(figsize=(7,7))"
      ],
      "execution_count": 103,
      "outputs": [
        {
          "output_type": "display_data",
          "data": {
            "text/html": [
              ""
            ],
            "text/plain": [
              "<IPython.core.display.HTML object>"
            ]
          },
          "metadata": {
            "tags": []
          }
        },
        {
          "output_type": "display_data",
          "data": {
            "image/png": "[encoded data removed]",
            "text/plain": [
              "<Figure size 504x504 with 1 Axes>"
            ]
          },
          "metadata": {
            "tags": [],
            "needs_background": "light"
          }
        }
      ]
    },
    {
      "cell_type": "code",
      "metadata": {
        "id": "RMwIi_qHWKcG"
      },
      "source": [
        "block = DataBlock(\n",
        "    blocks=(ImageBlock(cls=PILDicom),CategoryBlock),\n",
        "    get_x = lambda x: dataset/f\"{x[0]}\",\n",
        "    get_y = lambda x: x[1],\n",
        "    batch_tfms=[*aug_transforms(size=224),Normalize.from_stats(*imagenet_stats)]\n",
        ")\n",
        "dls = block.dataloaders(labels.values, num_workers=0,bs=2)"
      ],
      "execution_count": 104,
      "outputs": []
    },
    {
      "cell_type": "code",
      "metadata": {
        "id": "7EA4XgvuWqkD"
      },
      "source": [
        "learn = cnn_learner(dls, resnet34, metrics=accuracy)\n"
      ],
      "execution_count": 105,
      "outputs": []
    },
    {
      "cell_type": "code",
      "metadata": {
        "colab": {
          "base_uri": "https://localhost:8080/"
        },
        "id": "U8UJbJ4DWxE1",
        "outputId": "22242855-b245-49e6-eb8b-10fe8a8d2de2"
      },
      "source": [
        "learn.load('112-model')"
      ],
      "execution_count": 106,
      "outputs": [
        {
          "output_type": "execute_result",
          "data": {
            "text/plain": [
              "<fastai.learner.Learner at 0x7f8ec2040e90>"
            ]
          },
          "metadata": {
            "tags": []
          },
          "execution_count": 106
        }
      ]
    },
    {
      "cell_type": "code",
      "metadata": {
        "id": "ShoqBvhvZrix"
      },
      "source": [
        "learn.lr_find()"
      ],
      "execution_count": null,
      "outputs": []
    },
    {
      "cell_type": "code",
      "metadata": {
        "colab": {
          "base_uri": "https://localhost:8080/",
          "height": 363
        },
        "id": "bM33Tp6BXfV4",
        "outputId": "5a0ccc45-72e9-4908-d1ce-e6d32f5e06ab"
      },
      "source": [
        "learn.fit_one_cycle(10, slice(1e-4))"
      ],
      "execution_count": 108,
      "outputs": [
        {
          "output_type": "display_data",
          "data": {
            "text/html": [
              "<table border=\"1\" class=\"dataframe\">\n",
              "  <thead>\n",
              "    <tr style=\"text-align: left;\">\n",
              "      <th>epoch</th>\n",
              "      <th>train_loss</th>\n",
              "      <th>valid_loss</th>\n",
              "      <th>accuracy</th>\n",
              "      <th>time</th>\n",
              "    </tr>\n",
              "  </thead>\n",
              "  <tbody>\n",
              "    <tr>\n",
              "      <td>0</td>\n",
              "      <td>0.715012</td>\n",
              "      <td>0.915756</td>\n",
              "      <td>0.620000</td>\n",
              "      <td>00:07</td>\n",
              "    </tr>\n",
              "    <tr>\n",
              "      <td>1</td>\n",
              "      <td>0.874219</td>\n",
              "      <td>0.852290</td>\n",
              "      <td>0.660000</td>\n",
              "      <td>00:07</td>\n",
              "    </tr>\n",
              "    <tr>\n",
              "      <td>2</td>\n",
              "      <td>0.822508</td>\n",
              "      <td>0.903440</td>\n",
              "      <td>0.640000</td>\n",
              "      <td>00:07</td>\n",
              "    </tr>\n",
              "    <tr>\n",
              "      <td>3</td>\n",
              "      <td>0.715849</td>\n",
              "      <td>0.896821</td>\n",
              "      <td>0.660000</td>\n",
              "      <td>00:07</td>\n",
              "    </tr>\n",
              "    <tr>\n",
              "      <td>4</td>\n",
              "      <td>0.713377</td>\n",
              "      <td>0.865142</td>\n",
              "      <td>0.600000</td>\n",
              "      <td>00:07</td>\n",
              "    </tr>\n",
              "    <tr>\n",
              "      <td>5</td>\n",
              "      <td>0.810677</td>\n",
              "      <td>0.920382</td>\n",
              "      <td>0.620000</td>\n",
              "      <td>00:07</td>\n",
              "    </tr>\n",
              "    <tr>\n",
              "      <td>6</td>\n",
              "      <td>0.765158</td>\n",
              "      <td>0.920909</td>\n",
              "      <td>0.580000</td>\n",
              "      <td>00:07</td>\n",
              "    </tr>\n",
              "    <tr>\n",
              "      <td>7</td>\n",
              "      <td>0.772807</td>\n",
              "      <td>0.974170</td>\n",
              "      <td>0.640000</td>\n",
              "      <td>00:07</td>\n",
              "    </tr>\n",
              "    <tr>\n",
              "      <td>8</td>\n",
              "      <td>0.862378</td>\n",
              "      <td>0.941182</td>\n",
              "      <td>0.600000</td>\n",
              "      <td>00:07</td>\n",
              "    </tr>\n",
              "    <tr>\n",
              "      <td>9</td>\n",
              "      <td>0.785506</td>\n",
              "      <td>0.876654</td>\n",
              "      <td>0.660000</td>\n",
              "      <td>00:07</td>\n",
              "    </tr>\n",
              "  </tbody>\n",
              "</table>"
            ],
            "text/plain": [
              "<IPython.core.display.HTML object>"
            ]
          },
          "metadata": {
            "tags": []
          }
        }
      ]
    },
    {
      "cell_type": "code",
      "metadata": {
        "colab": {
          "base_uri": "https://localhost:8080/",
          "height": 526
        },
        "id": "lwUpIn8pXgHx",
        "outputId": "9470ff9b-19d1-4ca3-bb2e-b957a8f594c4"
      },
      "source": [
        "interp = ClassificationInterpretation.from_learner(learn)\n",
        "losses,idxs = interp.top_losses()\n",
        "len(dls.valid_ds)==len(losses)==len(idxs)\n",
        "interp.plot_confusion_matrix(figsize=(7,7))"
      ],
      "execution_count": 109,
      "outputs": [
        {
          "output_type": "display_data",
          "data": {
            "text/html": [
              ""
            ],
            "text/plain": [
              "<IPython.core.display.HTML object>"
            ]
          },
          "metadata": {
            "tags": []
          }
        },
        {
          "output_type": "display_data",
          "data": {
            "image/png": "[encoded data removed]",
            "text/plain": [
              "<Figure size 504x504 with 1 Axes>"
            ]
          },
          "metadata": {
            "tags": [],
            "needs_background": "light"
          }
        }
      ]
    },
    {
      "cell_type": "code",
      "metadata": {
        "id": "vwdtxRhbIMnn"
      },
      "source": [
        "  #we can also reproduce the results interpreted form plot_confusion matrix\n",
        "upp, low = interp.confusion_matrix()\n",
        "true_negative, false_negative = upp[0], upp[1]\n",
        "false_positive, true_positive = low[0], low[1]"
      ],
      "execution_count": 110,
      "outputs": []
    },
    {
      "cell_type": "markdown",
      "metadata": {
        "id": "OOBN-ucOz3hH"
      },
      "source": [
        "### Sensitivity or True Positive Rate :\n",
        "When a model predicts that a patient has a disease when he actually has a disease.  \\\n",
        "    \\\n",
        "Sensitivity : true_postive/(true_postive+false_negative)\n",
        "    \\\n",
        "    \\\n",
        "Also called Type-II error"
      ]
    },
    {
      "cell_type": "code",
      "metadata": {
        "id": "I_U0xWXsz1SX",
        "colab": {
          "base_uri": "https://localhost:8080/"
        },
        "outputId": "56dc3394-a325-4e83-9a73-dd0525d40824"
      },
      "source": [
        "sensitivity = true_positive/(true_positive+false_negative)\n",
        "sensitivity"
      ],
      "execution_count": 111,
      "outputs": [
        {
          "output_type": "execute_result",
          "data": {
            "text/plain": [
              "0.5"
            ]
          },
          "metadata": {
            "tags": []
          },
          "execution_count": 111
        }
      ]
    },
    {
      "cell_type": "markdown",
      "metadata": {
        "id": "Nq6XZwzn0Id0"
      },
      "source": [
        "### Specificity or True Negative Rate\n",
        "When the model predicts that the patient does not have a disease when he actually does not have a disease.   \\\n",
        "   \\\n",
        "Specificity = true_negative/(true_negative+false_positive)   \\\n",
        "    \\\n",
        "Also called Type-I error"
      ]
    },
    {
      "cell_type": "code",
      "metadata": {
        "id": "Ds-1NgA20Rx9",
        "colab": {
          "base_uri": "https://localhost:8080/"
        },
        "outputId": "e269f85f-e651-4b07-ba12-779a617703b9"
      },
      "source": [
        "specificity = true_negative/(true_negative+false_positive)\n",
        "specificity"
      ],
      "execution_count": 112,
      "outputs": [
        {
          "output_type": "execute_result",
          "data": {
            "text/plain": [
              "0.6818181818181818"
            ]
          },
          "metadata": {
            "tags": []
          },
          "execution_count": 112
        }
      ]
    },
    {
      "cell_type": "markdown",
      "metadata": {
        "id": "KcLsVOPO1kqY"
      },
      "source": [
        "### Positive Predict Value\n",
        "If the model predicts that a patient has a disease, what is the probabilty that the person actually has the condition. The idea value is 1 or 100% \\\n",
        "   \\\n"
      ]
    },
    {
      "cell_type": "code",
      "metadata": {
        "id": "Ad5y6dZ13itg",
        "colab": {
          "base_uri": "https://localhost:8080/"
        },
        "outputId": "ca35d7f2-d153-49c4-b792-8f2f9d8a67f2"
      },
      "source": [
        "ppv = true_positive/(true_positive+false_positive)\n",
        "ppv"
      ],
      "execution_count": 113,
      "outputs": [
        {
          "output_type": "execute_result",
          "data": {
            "text/plain": [
              "0.17647058823529413"
            ]
          },
          "metadata": {
            "tags": []
          },
          "execution_count": 113
        }
      ]
    },
    {
      "cell_type": "markdown",
      "metadata": {
        "id": "ihnYAMBL3vPR"
      },
      "source": [
        "### Negative Predict Value\n",
        "If the model predicts that the person does not have a disease, what is the probability that the person is actually healthy. The ideal value is 1 or 100%."
      ]
    },
    {
      "cell_type": "code",
      "metadata": {
        "id": "C8g-xhB_4Aoj",
        "colab": {
          "base_uri": "https://localhost:8080/"
        },
        "outputId": "403ada84-80b4-4083-e117-f8bac8d9537e"
      },
      "source": [
        "npv = true_negative/(true_negative+false_negative)\n",
        "npv"
      ],
      "execution_count": 114,
      "outputs": [
        {
          "output_type": "execute_result",
          "data": {
            "text/plain": [
              "0.9090909090909091"
            ]
          },
          "metadata": {
            "tags": []
          },
          "execution_count": 114
        }
      ]
    },
    {
      "cell_type": "markdown",
      "metadata": {
        "id": "MoC2zoN_6_XS"
      },
      "source": [
        "### Accuracy in medical cases\n",
        "accuracy = sensitivity *prevalence + specificity*(1-prevalence)  \\\n",
        "    \\\n",
        "prevalence is a statistical concept referring to the number of cases of the disease in a particular population at a given time.    \\\n",
        "\n",
        "The prevalence in this case is how many paients are there in the validation set compared to the total number in the val set."
      ]
    },
    {
      "cell_type": "code",
      "metadata": {
        "id": "K1glWW8K8dwy",
        "colab": {
          "base_uri": "https://localhost:8080/"
        },
        "outputId": "24ce7312-eba1-4a62-9d7f-670c89515dff"
      },
      "source": [
        "val = dls.valid_ds.cat\n",
        "print(val[0])"
      ],
      "execution_count": 115,
      "outputs": [
        {
          "output_type": "stream",
          "text": [
            "<bound method L.cat of TfmdLists: [['train/Pneumothorax/000021.dcm' 'Pneumothorax']\n",
            " ['train/No Pneumothorax/000230.dcm' 'No Pneumothorax']\n",
            " ['train/Pneumothorax/000151.dcm' 'Pneumothorax']\n",
            " ['train/No Pneumothorax/000069.dcm' 'No Pneumothorax']\n",
            " ['train/No Pneumothorax/000088.dcm' 'No Pneumothorax']\n",
            " ['train/No Pneumothorax/000135.dcm' 'No Pneumothorax']\n",
            " ['train/Pneumothorax/000154.dcm' 'Pneumothorax']\n",
            " ['train/No Pneumothorax/000030.dcm' 'No Pneumothorax']\n",
            " ['train/No Pneumothorax/000165.dcm' 'No Pneumothorax']\n",
            " ['train/Pneumothorax/000144.dcm' 'Pneumothorax']\n",
            " ['train/No Pneumothorax/000193.dcm' 'No Pneumothorax']\n",
            " ['train/No Pneumothorax/000096.dcm' 'No Pneumothorax']\n",
            " ['train/No Pneumothorax/000033.dcm' 'No Pneumothorax']\n",
            " ['train/No Pneumothorax/000226.dcm' 'No Pneumothorax']\n",
            " ['train/No Pneumothorax/000220.dcm' 'No Pneumothorax']\n",
            " ['train/Pneumothorax/000223.dcm' 'Pneumothorax']\n",
            " ['train/No Pneumothorax/000133.dcm' 'No Pneumothorax']\n",
            " ['train/No Pneumothorax/000241.dcm' 'No Pneumothorax']\n",
            " ['train/Pneumothorax/000065.dcm' 'Pneumothorax']\n",
            " ['train/Pneumothorax/000081.dcm' 'Pneumothorax']\n",
            " ['train/Pneumothorax/000152.dcm' 'Pneumothorax']\n",
            " ['train/Pneumothorax/000185.dcm' 'Pneumothorax']\n",
            " ['train/Pneumothorax/000046.dcm' 'Pneumothorax']\n",
            " ['train/No Pneumothorax/000208.dcm' 'No Pneumothorax']\n",
            " ['train/No Pneumothorax/000087.dcm' 'No Pneumothorax']\n",
            " ['train/No Pneumothorax/000057.dcm' 'No Pneumothorax']\n",
            " ['train/No Pneumothorax/000156.dcm' 'No Pneumothorax']\n",
            " ['train/No Pneumothorax/000242.dcm' 'No Pneumothorax']\n",
            " ['train/No Pneumothorax/000056.dcm' 'No Pneumothorax']\n",
            " ['train/No Pneumothorax/000037.dcm' 'No Pneumothorax']\n",
            " ['train/No Pneumothorax/000206.dcm' 'No Pneumothorax']\n",
            " ['train/No Pneumothorax/000109.dcm' 'No Pneumothorax']\n",
            " ['train/No Pneumothorax/000204.dcm' 'No Pneumothorax']\n",
            " ['train/No Pneumothorax/000177.dcm' 'No Pneumothorax']\n",
            " ['train/Pneumothorax/000140.dcm' 'Pneumothorax']\n",
            " ['train/Pneumothorax/000083.dcm' 'Pneumothorax']\n",
            " ['train/No Pneumothorax/000011.dcm' 'No Pneumothorax']\n",
            " ['train/Pneumothorax/000070.dcm' 'Pneumothorax']\n",
            " ['train/Pneumothorax/000111.dcm' 'Pneumothorax']\n",
            " ['train/No Pneumothorax/000215.dcm' 'No Pneumothorax']\n",
            " ['train/No Pneumothorax/000018.dcm' 'No Pneumothorax']\n",
            " ['train/No Pneumothorax/000128.dcm' 'No Pneumothorax']\n",
            " ['train/No Pneumothorax/000098.dcm' 'No Pneumothorax']\n",
            " ['train/Pneumothorax/000004.dcm' 'Pneumothorax']\n",
            " ['train/Pneumothorax/000125.dcm' 'Pneumothorax']\n",
            " ['train/No Pneumothorax/000012.dcm' 'No Pneumothorax']\n",
            " ['train/No Pneumothorax/000014.dcm' 'No Pneumothorax']\n",
            " ['train/Pneumothorax/000200.dcm' 'Pneumothorax']\n",
            " ['train/No Pneumothorax/000031.dcm' 'No Pneumothorax']\n",
            " ['train/No Pneumothorax/000002.dcm' 'No Pneumothorax']]\n",
            "tfms - [<lambda>:\n",
            "encodes: (object,object) -> <lambda>decodes: , PILDicom.create:\n",
            "encodes: (Path,object) -> create\n",
            "(str,object) -> create\n",
            "(bytes,object) -> createdecodes: ]>\n"
          ],
          "name": "stdout"
        }
      ]
    },
    {
      "cell_type": "code",
      "metadata": {
        "id": "nGUd27wp8lys"
      },
      "source": [
        "prevalance = 15/50"
      ],
      "execution_count": 116,
      "outputs": []
    },
    {
      "cell_type": "code",
      "metadata": {
        "id": "shmoPOzW8sGx",
        "colab": {
          "base_uri": "https://localhost:8080/"
        },
        "outputId": "1c7499fe-4f07-49f6-f1ae-10c31676d5f6"
      },
      "source": [
        "accuracy = sensitivity*prevalance + specificity*(1-prevalance)\n",
        "accuracy"
      ],
      "execution_count": 117,
      "outputs": [
        {
          "output_type": "execute_result",
          "data": {
            "text/plain": [
              "0.6272727272727272"
            ]
          },
          "metadata": {
            "tags": []
          },
          "execution_count": 117
        }
      ]
    },
    {
      "cell_type": "code",
      "metadata": {
        "id": "59fXnWM1Ok9k"
      },
      "source": [
        ""
      ],
      "execution_count": 117,
      "outputs": []
    }
  ]
}